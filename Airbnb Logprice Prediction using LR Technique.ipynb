{
 "cells": [
  {
   "cell_type": "code",
   "execution_count": 1,
   "id": "7a454af5",
   "metadata": {
    "_cell_guid": "b1076dfc-b9ad-4769-8c92-a6c4dae69d19",
    "_uuid": "8f2839f25d086af736a60e9eeb907d3b93b6e0e5",
    "execution": {
     "iopub.execute_input": "2024-07-08T00:52:11.233931Z",
     "iopub.status.busy": "2024-07-08T00:52:11.233499Z",
     "iopub.status.idle": "2024-07-08T00:52:12.162314Z",
     "shell.execute_reply": "2024-07-08T00:52:12.160986Z"
    },
    "papermill": {
     "duration": 0.947206,
     "end_time": "2024-07-08T00:52:12.165603",
     "exception": false,
     "start_time": "2024-07-08T00:52:11.218397",
     "status": "completed"
    },
    "tags": []
   },
   "outputs": [
    {
     "name": "stdout",
     "output_type": "stream",
     "text": [
      "/kaggle/input/AirBNB.csv\n"
     ]
    }
   ],
   "source": [
    "# This Python 3 environment comes with many helpful analytics libraries installed\n",
    "# It is defined by the kaggle/python Docker image: https://github.com/kaggle/docker-python\n",
    "# For example, here's several helpful packages to load\n",
    "\n",
    "import numpy as np # linear algebra\n",
    "import pandas as pd # data processing, CSV file I/O (e.g. pd.read_csv)\n",
    "\n",
    "# Input data files are available in the read-only \"../input/\" directory\n",
    "# For example, running this (by clicking run or pressing Shift+Enter) will list all files under the input directory\n",
    "\n",
    "import os\n",
    "for dirname, _, filenames in os.walk('/kaggle/input'):\n",
    "    for filename in filenames:\n",
    "        print(os.path.join(dirname, filename))\n",
    "\n",
    "# You can write up to 20GB to the current directory (/kaggle/working/) that gets preserved as output when you create a version using \"Save & Run All\" \n",
    "# You can also write temporary files to /kaggle/temp/, but they won't be saved outside of the current session"
   ]
  },
  {
   "cell_type": "markdown",
   "id": "e0ffa96d",
   "metadata": {
    "papermill": {
     "duration": 0.012574,
     "end_time": "2024-07-08T00:52:12.191315",
     "exception": false,
     "start_time": "2024-07-08T00:52:12.178741",
     "status": "completed"
    },
    "tags": []
   },
   "source": [
    "> # **Introdiction**"
   ]
  },
  {
   "cell_type": "markdown",
   "id": "aa331198",
   "metadata": {
    "papermill": {
     "duration": 0.012465,
     "end_time": "2024-07-08T00:52:12.216734",
     "exception": false,
     "start_time": "2024-07-08T00:52:12.204269",
     "status": "completed"
    },
    "tags": []
   },
   "source": [
    "Airbnb is an online platform that allows people to rent short term accommodation. This ranges from regular people with a spare bedroom to property management firms who lease multiple rentals. On the one side, Airbnb enables owners to list their space and earn rental money. On the other side, it provides travelers easy access to renting private homes.\n",
    "\n",
    "Airbnb receives commissions from two sources upon every booking, namely from the hosts and guests. For every booking, Airbnb charges the guest 6-12% of the booking fee. Moreover, Airbnb charges the host 3% for every successful transaction.\n",
    "\n",
    "As a senior data scientist at Airbnb, you have to come up with a pricing model that can effectively predict the Rent for an accommodation and can help hosts, travelers, and also the business in devising profitable strategies."
   ]
  },
  {
   "cell_type": "markdown",
   "id": "b727003a",
   "metadata": {
    "papermill": {
     "duration": 0.012764,
     "end_time": "2024-07-08T00:52:12.242818",
     "exception": false,
     "start_time": "2024-07-08T00:52:12.230054",
     "status": "completed"
    },
    "tags": []
   },
   "source": [
    "# **Data Dictionery**"
   ]
  },
  {
   "cell_type": "markdown",
   "id": "8d0d7484",
   "metadata": {
    "papermill": {
     "duration": 0.012728,
     "end_time": "2024-07-08T00:52:12.269289",
     "exception": false,
     "start_time": "2024-07-08T00:52:12.256561",
     "status": "completed"
    },
    "tags": []
   },
   "source": [
    "* id:                         Property ID\n",
    "* room_type:                  Type of Room in the property\n",
    "* accommodates:               How many adults can this property accomodate\n",
    "* bathrooms:                  Number of bathrooms in the property\n",
    "* cancellation_policy:        Cancellation policy of the property\n",
    "* cleaning_fee:               This denotes whether the property's cleaning fee is                                 included in the rent or not\n",
    "* instant_bookable:           It indicates whether an instant booking facility is                                 available or not\n",
    "* review_scores_rating:       The review rating score of the property\n",
    "* bedrooms:                   Number of bedrooms in the property\n",
    "* beds:                       Total number of beds in the property\n",
    "* log_price:                  Log of the rental price of the property for a fixed                                 period"
   ]
  },
  {
   "cell_type": "markdown",
   "id": "02a0a6bf",
   "metadata": {
    "papermill": {
     "duration": 0.01276,
     "end_time": "2024-07-08T00:52:12.295687",
     "exception": false,
     "start_time": "2024-07-08T00:52:12.282927",
     "status": "completed"
    },
    "tags": []
   },
   "source": [
    "# **Import Libraries**"
   ]
  },
  {
   "cell_type": "code",
   "execution_count": 2,
   "id": "6d25e19e",
   "metadata": {
    "execution": {
     "iopub.execute_input": "2024-07-08T00:52:12.323403Z",
     "iopub.status.busy": "2024-07-08T00:52:12.322930Z",
     "iopub.status.idle": "2024-07-08T00:52:14.340572Z",
     "shell.execute_reply": "2024-07-08T00:52:14.339337Z"
    },
    "papermill": {
     "duration": 2.035318,
     "end_time": "2024-07-08T00:52:14.344087",
     "exception": false,
     "start_time": "2024-07-08T00:52:12.308769",
     "status": "completed"
    },
    "tags": []
   },
   "outputs": [],
   "source": [
    "# Data handling and visualization\n",
    "import numpy as np\n",
    "import pandas as pd\n",
    "import matplotlib.pyplot as plt\n",
    "import seaborn as sns\n",
    "\n",
    "# preprocessing and data transformation\n",
    "from sklearn.preprocessing import OneHotEncoder\n",
    "from sklearn.impute import SimpleImputer\n",
    "from sklearn.preprocessing import MinMaxScaler\n",
    "from sklearn.compose import ColumnTransformer\n",
    "from sklearn.pipeline import Pipeline, make_pipeline\n",
    "\n",
    "# Model selection and evaluation\n",
    "from sklearn.model_selection import train_test_split, GridSearchCV\n",
    "from sklearn.metrics import mean_squared_error, mean_absolute_error, r2_score\n",
    "\n",
    "# Models\n",
    "from sklearn.tree import DecisionTreeRegressor\n",
    "from sklearn.linear_model import LinearRegression\n",
    "from sklearn.linear_model import LinearRegression, LassoCV, RidgeCV, ElasticNetCV, Lasso\n",
    "from sklearn.ensemble import RandomForestRegressor, GradientBoostingRegressor\n"
   ]
  },
  {
   "cell_type": "markdown",
   "id": "2dcec266",
   "metadata": {
    "papermill": {
     "duration": 0.012896,
     "end_time": "2024-07-08T00:52:14.373986",
     "exception": false,
     "start_time": "2024-07-08T00:52:14.361090",
     "status": "completed"
    },
    "tags": []
   },
   "source": [
    "**Loading the dataset**"
   ]
  },
  {
   "cell_type": "code",
   "execution_count": 3,
   "id": "3dbab834",
   "metadata": {
    "execution": {
     "iopub.execute_input": "2024-07-08T00:52:14.402219Z",
     "iopub.status.busy": "2024-07-08T00:52:14.401837Z",
     "iopub.status.idle": "2024-07-08T00:52:14.571703Z",
     "shell.execute_reply": "2024-07-08T00:52:14.570598Z"
    },
    "papermill": {
     "duration": 0.187513,
     "end_time": "2024-07-08T00:52:14.574489",
     "exception": false,
     "start_time": "2024-07-08T00:52:14.386976",
     "status": "completed"
    },
    "tags": []
   },
   "outputs": [],
   "source": [
    "df = pd.read_csv(\"/kaggle/input/AirBNB.csv\", low_memory = False)\n",
    "\n"
   ]
  },
  {
   "cell_type": "code",
   "execution_count": 4,
   "id": "fbe2b6e2",
   "metadata": {
    "execution": {
     "iopub.execute_input": "2024-07-08T00:52:14.604236Z",
     "iopub.status.busy": "2024-07-08T00:52:14.603016Z",
     "iopub.status.idle": "2024-07-08T00:52:14.637655Z",
     "shell.execute_reply": "2024-07-08T00:52:14.636501Z"
    },
    "papermill": {
     "duration": 0.052815,
     "end_time": "2024-07-08T00:52:14.640663",
     "exception": false,
     "start_time": "2024-07-08T00:52:14.587848",
     "status": "completed"
    },
    "tags": []
   },
   "outputs": [
    {
     "data": {
      "text/html": [
       "<div>\n",
       "<style scoped>\n",
       "    .dataframe tbody tr th:only-of-type {\n",
       "        vertical-align: middle;\n",
       "    }\n",
       "\n",
       "    .dataframe tbody tr th {\n",
       "        vertical-align: top;\n",
       "    }\n",
       "\n",
       "    .dataframe thead th {\n",
       "        text-align: right;\n",
       "    }\n",
       "</style>\n",
       "<table border=\"1\" class=\"dataframe\">\n",
       "  <thead>\n",
       "    <tr style=\"text-align: right;\">\n",
       "      <th></th>\n",
       "      <th>id</th>\n",
       "      <th>room_type</th>\n",
       "      <th>accommodates</th>\n",
       "      <th>bathrooms</th>\n",
       "      <th>cancellation_policy</th>\n",
       "      <th>cleaning_fee</th>\n",
       "      <th>instant_bookable</th>\n",
       "      <th>review_scores_rating</th>\n",
       "      <th>bedrooms</th>\n",
       "      <th>beds</th>\n",
       "      <th>log_price</th>\n",
       "    </tr>\n",
       "  </thead>\n",
       "  <tbody>\n",
       "    <tr>\n",
       "      <th>0</th>\n",
       "      <td>6901257</td>\n",
       "      <td>Entire home/apt</td>\n",
       "      <td>3.0</td>\n",
       "      <td>1.0</td>\n",
       "      <td>strict</td>\n",
       "      <td>True</td>\n",
       "      <td>f</td>\n",
       "      <td>100.0</td>\n",
       "      <td>1.0</td>\n",
       "      <td>1.0</td>\n",
       "      <td>5.010635</td>\n",
       "    </tr>\n",
       "    <tr>\n",
       "      <th>1</th>\n",
       "      <td>6304928</td>\n",
       "      <td>Entire home/apt</td>\n",
       "      <td>7.0</td>\n",
       "      <td>1.0</td>\n",
       "      <td>strict</td>\n",
       "      <td>True</td>\n",
       "      <td>t</td>\n",
       "      <td>93.0</td>\n",
       "      <td>3.0</td>\n",
       "      <td>3.0</td>\n",
       "      <td>5.129899</td>\n",
       "    </tr>\n",
       "    <tr>\n",
       "      <th>2</th>\n",
       "      <td>7919400</td>\n",
       "      <td>Entire home/apt</td>\n",
       "      <td>5.0</td>\n",
       "      <td>1.0</td>\n",
       "      <td>moderate</td>\n",
       "      <td>True</td>\n",
       "      <td>t</td>\n",
       "      <td>92.0</td>\n",
       "      <td>1.0</td>\n",
       "      <td>3.0</td>\n",
       "      <td>4.976734</td>\n",
       "    </tr>\n",
       "    <tr>\n",
       "      <th>3</th>\n",
       "      <td>13418779</td>\n",
       "      <td>Entire home/apt</td>\n",
       "      <td>4.0</td>\n",
       "      <td>1.0</td>\n",
       "      <td>flexible</td>\n",
       "      <td>True</td>\n",
       "      <td>f</td>\n",
       "      <td>NaN</td>\n",
       "      <td>2.0</td>\n",
       "      <td>2.0</td>\n",
       "      <td>6.620073</td>\n",
       "    </tr>\n",
       "    <tr>\n",
       "      <th>4</th>\n",
       "      <td>3808709</td>\n",
       "      <td>Entire home/apt</td>\n",
       "      <td>2.0</td>\n",
       "      <td>1.0</td>\n",
       "      <td>moderate</td>\n",
       "      <td>True</td>\n",
       "      <td>t</td>\n",
       "      <td>40.0</td>\n",
       "      <td>0.0</td>\n",
       "      <td>1.0</td>\n",
       "      <td>4.744932</td>\n",
       "    </tr>\n",
       "  </tbody>\n",
       "</table>\n",
       "</div>"
      ],
      "text/plain": [
       "         id        room_type  accommodates  bathrooms cancellation_policy  \\\n",
       "0   6901257  Entire home/apt           3.0        1.0              strict   \n",
       "1   6304928  Entire home/apt           7.0        1.0              strict   \n",
       "2   7919400  Entire home/apt           5.0        1.0            moderate   \n",
       "3  13418779  Entire home/apt           4.0        1.0            flexible   \n",
       "4   3808709  Entire home/apt           2.0        1.0            moderate   \n",
       "\n",
       "  cleaning_fee instant_bookable  review_scores_rating  bedrooms  beds  \\\n",
       "0         True                f                 100.0       1.0   1.0   \n",
       "1         True                t                  93.0       3.0   3.0   \n",
       "2         True                t                  92.0       1.0   3.0   \n",
       "3         True                f                   NaN       2.0   2.0   \n",
       "4         True                t                  40.0       0.0   1.0   \n",
       "\n",
       "   log_price  \n",
       "0   5.010635  \n",
       "1   5.129899  \n",
       "2   4.976734  \n",
       "3   6.620073  \n",
       "4   4.744932  "
      ]
     },
     "execution_count": 4,
     "metadata": {},
     "output_type": "execute_result"
    }
   ],
   "source": [
    "df.head()"
   ]
  },
  {
   "cell_type": "markdown",
   "id": "f4f1731d",
   "metadata": {
    "papermill": {
     "duration": 0.013648,
     "end_time": "2024-07-08T00:52:14.673115",
     "exception": false,
     "start_time": "2024-07-08T00:52:14.659467",
     "status": "completed"
    },
    "tags": []
   },
   "source": [
    "Checking Duplicates"
   ]
  },
  {
   "cell_type": "code",
   "execution_count": 5,
   "id": "25f383e4",
   "metadata": {
    "execution": {
     "iopub.execute_input": "2024-07-08T00:52:14.704557Z",
     "iopub.status.busy": "2024-07-08T00:52:14.703309Z",
     "iopub.status.idle": "2024-07-08T00:52:14.753028Z",
     "shell.execute_reply": "2024-07-08T00:52:14.751972Z"
    },
    "papermill": {
     "duration": 0.068549,
     "end_time": "2024-07-08T00:52:14.755320",
     "exception": false,
     "start_time": "2024-07-08T00:52:14.686771",
     "status": "completed"
    },
    "tags": []
   },
   "outputs": [
    {
     "data": {
      "text/plain": [
       "0"
      ]
     },
     "execution_count": 5,
     "metadata": {},
     "output_type": "execute_result"
    }
   ],
   "source": [
    "df.duplicated().sum()"
   ]
  },
  {
   "cell_type": "markdown",
   "id": "6334cc04",
   "metadata": {
    "papermill": {
     "duration": 0.01301,
     "end_time": "2024-07-08T00:52:14.781807",
     "exception": false,
     "start_time": "2024-07-08T00:52:14.768797",
     "status": "completed"
    },
    "tags": []
   },
   "source": [
    "# **Splitting the Dataset**"
   ]
  },
  {
   "cell_type": "code",
   "execution_count": 6,
   "id": "da123df4",
   "metadata": {
    "execution": {
     "iopub.execute_input": "2024-07-08T00:52:14.811409Z",
     "iopub.status.busy": "2024-07-08T00:52:14.811004Z",
     "iopub.status.idle": "2024-07-08T00:52:14.849760Z",
     "shell.execute_reply": "2024-07-08T00:52:14.848578Z"
    },
    "papermill": {
     "duration": 0.056473,
     "end_time": "2024-07-08T00:52:14.852136",
     "exception": false,
     "start_time": "2024-07-08T00:52:14.795663",
     "status": "completed"
    },
    "tags": []
   },
   "outputs": [
    {
     "name": "stdout",
     "output_type": "stream",
     "text": [
      "X_train shape: (59288, 10)\n",
      "X_test shape: (14823, 10)\n",
      "y_train shape: (59288,)\n",
      "y_test shape: (14823,)\n"
     ]
    }
   ],
   "source": [
    "from sklearn.model_selection import train_test_split\n",
    "\n",
    "# Separate the feature and the target variable\n",
    "X = df.drop('log_price', axis=1) # Features (all columns except 'SalePrice')\n",
    "y = df['log_price']              # Target Variable\n",
    "\n",
    "# split the dataset into traing and test sets\n",
    "X_train, X_test, y_train, y_test = train_test_split(X,y, test_size=0.2, random_state=42)\n",
    "\n",
    "            \n",
    "# Verify the dimensions of the resulting splits\n",
    "print(f\"X_train shape: {X_train.shape}\")\n",
    "print(f\"X_test shape: {X_test.shape}\")\n",
    "print(f\"y_train shape: {y_train.shape}\")\n",
    "print(f\"y_test shape: {y_test.shape}\")"
   ]
  },
  {
   "cell_type": "markdown",
   "id": "50f0b56b",
   "metadata": {
    "papermill": {
     "duration": 0.01354,
     "end_time": "2024-07-08T00:52:14.879386",
     "exception": false,
     "start_time": "2024-07-08T00:52:14.865846",
     "status": "completed"
    },
    "tags": []
   },
   "source": [
    "# **Column Info**"
   ]
  },
  {
   "cell_type": "code",
   "execution_count": 7,
   "id": "b446da48",
   "metadata": {
    "execution": {
     "iopub.execute_input": "2024-07-08T00:52:14.909157Z",
     "iopub.status.busy": "2024-07-08T00:52:14.908725Z",
     "iopub.status.idle": "2024-07-08T00:52:15.006705Z",
     "shell.execute_reply": "2024-07-08T00:52:15.005445Z"
    },
    "papermill": {
     "duration": 0.115467,
     "end_time": "2024-07-08T00:52:15.009124",
     "exception": false,
     "start_time": "2024-07-08T00:52:14.893657",
     "status": "completed"
    },
    "tags": []
   },
   "outputs": [
    {
     "data": {
      "text/html": [
       "<div>\n",
       "<style scoped>\n",
       "    .dataframe tbody tr th:only-of-type {\n",
       "        vertical-align: middle;\n",
       "    }\n",
       "\n",
       "    .dataframe tbody tr th {\n",
       "        vertical-align: top;\n",
       "    }\n",
       "\n",
       "    .dataframe thead th {\n",
       "        text-align: right;\n",
       "    }\n",
       "</style>\n",
       "<table border=\"1\" class=\"dataframe\">\n",
       "  <thead>\n",
       "    <tr style=\"text-align: right;\">\n",
       "      <th></th>\n",
       "      <th>id</th>\n",
       "      <th>room_type</th>\n",
       "      <th>accommodates</th>\n",
       "      <th>bathrooms</th>\n",
       "      <th>cancellation_policy</th>\n",
       "      <th>cleaning_fee</th>\n",
       "      <th>instant_bookable</th>\n",
       "      <th>review_scores_rating</th>\n",
       "      <th>bedrooms</th>\n",
       "      <th>beds</th>\n",
       "      <th>log_price</th>\n",
       "    </tr>\n",
       "  </thead>\n",
       "  <tbody>\n",
       "    <tr>\n",
       "      <th>count</th>\n",
       "      <td>7.411100e+04</td>\n",
       "      <td>74106</td>\n",
       "      <td>74108.000000</td>\n",
       "      <td>73908.000000</td>\n",
       "      <td>74103</td>\n",
       "      <td>74107</td>\n",
       "      <td>74111</td>\n",
       "      <td>57389.000000</td>\n",
       "      <td>74019.000000</td>\n",
       "      <td>73980.000000</td>\n",
       "      <td>74111.000000</td>\n",
       "    </tr>\n",
       "    <tr>\n",
       "      <th>unique</th>\n",
       "      <td>NaN</td>\n",
       "      <td>3</td>\n",
       "      <td>NaN</td>\n",
       "      <td>NaN</td>\n",
       "      <td>3</td>\n",
       "      <td>2</td>\n",
       "      <td>2</td>\n",
       "      <td>NaN</td>\n",
       "      <td>NaN</td>\n",
       "      <td>NaN</td>\n",
       "      <td>NaN</td>\n",
       "    </tr>\n",
       "    <tr>\n",
       "      <th>top</th>\n",
       "      <td>NaN</td>\n",
       "      <td>Entire home/apt</td>\n",
       "      <td>NaN</td>\n",
       "      <td>NaN</td>\n",
       "      <td>strict</td>\n",
       "      <td>True</td>\n",
       "      <td>f</td>\n",
       "      <td>NaN</td>\n",
       "      <td>NaN</td>\n",
       "      <td>NaN</td>\n",
       "      <td>NaN</td>\n",
       "    </tr>\n",
       "    <tr>\n",
       "      <th>freq</th>\n",
       "      <td>NaN</td>\n",
       "      <td>41308</td>\n",
       "      <td>NaN</td>\n",
       "      <td>NaN</td>\n",
       "      <td>32500</td>\n",
       "      <td>54399</td>\n",
       "      <td>54660</td>\n",
       "      <td>NaN</td>\n",
       "      <td>NaN</td>\n",
       "      <td>NaN</td>\n",
       "      <td>NaN</td>\n",
       "    </tr>\n",
       "    <tr>\n",
       "      <th>mean</th>\n",
       "      <td>1.126662e+07</td>\n",
       "      <td>NaN</td>\n",
       "      <td>3.155125</td>\n",
       "      <td>1.235272</td>\n",
       "      <td>NaN</td>\n",
       "      <td>NaN</td>\n",
       "      <td>NaN</td>\n",
       "      <td>94.067365</td>\n",
       "      <td>1.265797</td>\n",
       "      <td>1.710868</td>\n",
       "      <td>4.782069</td>\n",
       "    </tr>\n",
       "    <tr>\n",
       "      <th>std</th>\n",
       "      <td>6.081735e+06</td>\n",
       "      <td>NaN</td>\n",
       "      <td>2.153603</td>\n",
       "      <td>0.582054</td>\n",
       "      <td>NaN</td>\n",
       "      <td>NaN</td>\n",
       "      <td>NaN</td>\n",
       "      <td>7.836556</td>\n",
       "      <td>0.852149</td>\n",
       "      <td>1.254142</td>\n",
       "      <td>0.717394</td>\n",
       "    </tr>\n",
       "    <tr>\n",
       "      <th>min</th>\n",
       "      <td>3.440000e+02</td>\n",
       "      <td>NaN</td>\n",
       "      <td>1.000000</td>\n",
       "      <td>0.000000</td>\n",
       "      <td>NaN</td>\n",
       "      <td>NaN</td>\n",
       "      <td>NaN</td>\n",
       "      <td>20.000000</td>\n",
       "      <td>0.000000</td>\n",
       "      <td>0.000000</td>\n",
       "      <td>0.000000</td>\n",
       "    </tr>\n",
       "    <tr>\n",
       "      <th>25%</th>\n",
       "      <td>6.261964e+06</td>\n",
       "      <td>NaN</td>\n",
       "      <td>2.000000</td>\n",
       "      <td>1.000000</td>\n",
       "      <td>NaN</td>\n",
       "      <td>NaN</td>\n",
       "      <td>NaN</td>\n",
       "      <td>92.000000</td>\n",
       "      <td>1.000000</td>\n",
       "      <td>1.000000</td>\n",
       "      <td>4.317488</td>\n",
       "    </tr>\n",
       "    <tr>\n",
       "      <th>50%</th>\n",
       "      <td>1.225415e+07</td>\n",
       "      <td>NaN</td>\n",
       "      <td>2.000000</td>\n",
       "      <td>1.000000</td>\n",
       "      <td>NaN</td>\n",
       "      <td>NaN</td>\n",
       "      <td>NaN</td>\n",
       "      <td>96.000000</td>\n",
       "      <td>1.000000</td>\n",
       "      <td>1.000000</td>\n",
       "      <td>4.709530</td>\n",
       "    </tr>\n",
       "    <tr>\n",
       "      <th>75%</th>\n",
       "      <td>1.640226e+07</td>\n",
       "      <td>NaN</td>\n",
       "      <td>4.000000</td>\n",
       "      <td>1.000000</td>\n",
       "      <td>NaN</td>\n",
       "      <td>NaN</td>\n",
       "      <td>NaN</td>\n",
       "      <td>100.000000</td>\n",
       "      <td>1.000000</td>\n",
       "      <td>2.000000</td>\n",
       "      <td>5.220356</td>\n",
       "    </tr>\n",
       "    <tr>\n",
       "      <th>max</th>\n",
       "      <td>2.123090e+07</td>\n",
       "      <td>NaN</td>\n",
       "      <td>16.000000</td>\n",
       "      <td>8.000000</td>\n",
       "      <td>NaN</td>\n",
       "      <td>NaN</td>\n",
       "      <td>NaN</td>\n",
       "      <td>100.000000</td>\n",
       "      <td>10.000000</td>\n",
       "      <td>18.000000</td>\n",
       "      <td>7.600402</td>\n",
       "    </tr>\n",
       "  </tbody>\n",
       "</table>\n",
       "</div>"
      ],
      "text/plain": [
       "                  id        room_type  accommodates     bathrooms  \\\n",
       "count   7.411100e+04            74106  74108.000000  73908.000000   \n",
       "unique           NaN                3           NaN           NaN   \n",
       "top              NaN  Entire home/apt           NaN           NaN   \n",
       "freq             NaN            41308           NaN           NaN   \n",
       "mean    1.126662e+07              NaN      3.155125      1.235272   \n",
       "std     6.081735e+06              NaN      2.153603      0.582054   \n",
       "min     3.440000e+02              NaN      1.000000      0.000000   \n",
       "25%     6.261964e+06              NaN      2.000000      1.000000   \n",
       "50%     1.225415e+07              NaN      2.000000      1.000000   \n",
       "75%     1.640226e+07              NaN      4.000000      1.000000   \n",
       "max     2.123090e+07              NaN     16.000000      8.000000   \n",
       "\n",
       "       cancellation_policy cleaning_fee instant_bookable  \\\n",
       "count                74103        74107            74111   \n",
       "unique                   3            2                2   \n",
       "top                 strict         True                f   \n",
       "freq                 32500        54399            54660   \n",
       "mean                   NaN          NaN              NaN   \n",
       "std                    NaN          NaN              NaN   \n",
       "min                    NaN          NaN              NaN   \n",
       "25%                    NaN          NaN              NaN   \n",
       "50%                    NaN          NaN              NaN   \n",
       "75%                    NaN          NaN              NaN   \n",
       "max                    NaN          NaN              NaN   \n",
       "\n",
       "        review_scores_rating      bedrooms          beds     log_price  \n",
       "count           57389.000000  74019.000000  73980.000000  74111.000000  \n",
       "unique                   NaN           NaN           NaN           NaN  \n",
       "top                      NaN           NaN           NaN           NaN  \n",
       "freq                     NaN           NaN           NaN           NaN  \n",
       "mean               94.067365      1.265797      1.710868      4.782069  \n",
       "std                 7.836556      0.852149      1.254142      0.717394  \n",
       "min                20.000000      0.000000      0.000000      0.000000  \n",
       "25%                92.000000      1.000000      1.000000      4.317488  \n",
       "50%                96.000000      1.000000      1.000000      4.709530  \n",
       "75%               100.000000      1.000000      2.000000      5.220356  \n",
       "max               100.000000     10.000000     18.000000      7.600402  "
      ]
     },
     "execution_count": 7,
     "metadata": {},
     "output_type": "execute_result"
    }
   ],
   "source": [
    "df_description = df.describe(include='all')\n",
    "df_description"
   ]
  },
  {
   "cell_type": "markdown",
   "id": "bee17f08",
   "metadata": {
    "papermill": {
     "duration": 0.013739,
     "end_time": "2024-07-08T00:52:15.036807",
     "exception": false,
     "start_time": "2024-07-08T00:52:15.023068",
     "status": "completed"
    },
    "tags": []
   },
   "source": [
    "# **Outliers**"
   ]
  },
  {
   "cell_type": "code",
   "execution_count": 8,
   "id": "d705cd90",
   "metadata": {
    "execution": {
     "iopub.execute_input": "2024-07-08T00:52:15.067803Z",
     "iopub.status.busy": "2024-07-08T00:52:15.067387Z",
     "iopub.status.idle": "2024-07-08T00:52:15.372552Z",
     "shell.execute_reply": "2024-07-08T00:52:15.371443Z"
    },
    "papermill": {
     "duration": 0.322688,
     "end_time": "2024-07-08T00:52:15.375041",
     "exception": false,
     "start_time": "2024-07-08T00:52:15.052353",
     "status": "completed"
    },
    "tags": []
   },
   "outputs": [
    {
     "data": {
      "image/png": "[encoded data removed]",
      "text/plain": [
       "<Figure size 3000x600 with 1 Axes>"
      ]
     },
     "metadata": {},
     "output_type": "display_data"
    }
   ],
   "source": [
    "import matplotlib.pyplot as plt\n",
    "import seaborn as sns\n",
    "\n",
    "#set up the figure size and DPI\n",
    "plt.figure(figsize=(15, 3), dpi=200)\n",
    "\n",
    "# Create the boxplot\n",
    "sns.boxplot(x=df['log_price'])\n",
    "\n",
    "# Set the plot orientation\n",
    "plt.xlabel('log_price')\n",
    "\n",
    "plt.show()"
   ]
  },
  {
   "cell_type": "code",
   "execution_count": 9,
   "id": "2d16bd65",
   "metadata": {
    "execution": {
     "iopub.execute_input": "2024-07-08T00:52:15.405598Z",
     "iopub.status.busy": "2024-07-08T00:52:15.405178Z",
     "iopub.status.idle": "2024-07-08T00:52:15.422848Z",
     "shell.execute_reply": "2024-07-08T00:52:15.421697Z"
    },
    "papermill": {
     "duration": 0.035849,
     "end_time": "2024-07-08T00:52:15.425211",
     "exception": false,
     "start_time": "2024-07-08T00:52:15.389362",
     "status": "completed"
    },
    "tags": []
   },
   "outputs": [
    {
     "data": {
      "text/html": [
       "<div>\n",
       "<style scoped>\n",
       "    .dataframe tbody tr th:only-of-type {\n",
       "        vertical-align: middle;\n",
       "    }\n",
       "\n",
       "    .dataframe tbody tr th {\n",
       "        vertical-align: top;\n",
       "    }\n",
       "\n",
       "    .dataframe thead th {\n",
       "        text-align: right;\n",
       "    }\n",
       "</style>\n",
       "<table border=\"1\" class=\"dataframe\">\n",
       "  <thead>\n",
       "    <tr style=\"text-align: right;\">\n",
       "      <th></th>\n",
       "      <th>id</th>\n",
       "      <th>room_type</th>\n",
       "      <th>accommodates</th>\n",
       "      <th>bathrooms</th>\n",
       "      <th>cancellation_policy</th>\n",
       "      <th>cleaning_fee</th>\n",
       "      <th>instant_bookable</th>\n",
       "      <th>review_scores_rating</th>\n",
       "      <th>bedrooms</th>\n",
       "      <th>beds</th>\n",
       "    </tr>\n",
       "  </thead>\n",
       "  <tbody>\n",
       "    <tr>\n",
       "      <th>12048</th>\n",
       "      <td>760827</td>\n",
       "      <td>Entire home/apt</td>\n",
       "      <td>4.0</td>\n",
       "      <td>1.5</td>\n",
       "      <td>flexible</td>\n",
       "      <td>False</td>\n",
       "      <td>f</td>\n",
       "      <td>97.0</td>\n",
       "      <td>2.0</td>\n",
       "      <td>3.0</td>\n",
       "    </tr>\n",
       "    <tr>\n",
       "      <th>48255</th>\n",
       "      <td>3257345</td>\n",
       "      <td>Entire home/apt</td>\n",
       "      <td>2.0</td>\n",
       "      <td>1.0</td>\n",
       "      <td>strict</td>\n",
       "      <td>True</td>\n",
       "      <td>t</td>\n",
       "      <td>87.0</td>\n",
       "      <td>1.0</td>\n",
       "      <td>1.0</td>\n",
       "    </tr>\n",
       "    <tr>\n",
       "      <th>39959</th>\n",
       "      <td>13355012</td>\n",
       "      <td>Entire home/apt</td>\n",
       "      <td>4.0</td>\n",
       "      <td>1.0</td>\n",
       "      <td>strict</td>\n",
       "      <td>True</td>\n",
       "      <td>t</td>\n",
       "      <td>80.0</td>\n",
       "      <td>0.0</td>\n",
       "      <td>2.0</td>\n",
       "    </tr>\n",
       "    <tr>\n",
       "      <th>14926</th>\n",
       "      <td>4565981</td>\n",
       "      <td>Private room</td>\n",
       "      <td>2.0</td>\n",
       "      <td>1.0</td>\n",
       "      <td>flexible</td>\n",
       "      <td>True</td>\n",
       "      <td>f</td>\n",
       "      <td>NaN</td>\n",
       "      <td>1.0</td>\n",
       "      <td>1.0</td>\n",
       "    </tr>\n",
       "    <tr>\n",
       "      <th>776</th>\n",
       "      <td>6940108</td>\n",
       "      <td>Entire home/apt</td>\n",
       "      <td>3.0</td>\n",
       "      <td>1.0</td>\n",
       "      <td>moderate</td>\n",
       "      <td>True</td>\n",
       "      <td>f</td>\n",
       "      <td>99.0</td>\n",
       "      <td>1.0</td>\n",
       "      <td>1.0</td>\n",
       "    </tr>\n",
       "  </tbody>\n",
       "</table>\n",
       "</div>"
      ],
      "text/plain": [
       "             id        room_type  accommodates  bathrooms cancellation_policy  \\\n",
       "12048    760827  Entire home/apt           4.0        1.5            flexible   \n",
       "48255   3257345  Entire home/apt           2.0        1.0              strict   \n",
       "39959  13355012  Entire home/apt           4.0        1.0              strict   \n",
       "14926   4565981     Private room           2.0        1.0            flexible   \n",
       "776     6940108  Entire home/apt           3.0        1.0            moderate   \n",
       "\n",
       "      cleaning_fee instant_bookable  review_scores_rating  bedrooms  beds  \n",
       "12048        False                f                  97.0       2.0   3.0  \n",
       "48255         True                t                  87.0       1.0   1.0  \n",
       "39959         True                t                  80.0       0.0   2.0  \n",
       "14926         True                f                   NaN       1.0   1.0  \n",
       "776           True                f                  99.0       1.0   1.0  "
      ]
     },
     "execution_count": 9,
     "metadata": {},
     "output_type": "execute_result"
    }
   ],
   "source": [
    "X_train.head()"
   ]
  },
  {
   "cell_type": "code",
   "execution_count": 10,
   "id": "9d5a3349",
   "metadata": {
    "execution": {
     "iopub.execute_input": "2024-07-08T00:52:15.456102Z",
     "iopub.status.busy": "2024-07-08T00:52:15.455702Z",
     "iopub.status.idle": "2024-07-08T00:52:15.462696Z",
     "shell.execute_reply": "2024-07-08T00:52:15.461616Z"
    },
    "papermill": {
     "duration": 0.025141,
     "end_time": "2024-07-08T00:52:15.464866",
     "exception": false,
     "start_time": "2024-07-08T00:52:15.439725",
     "status": "completed"
    },
    "tags": []
   },
   "outputs": [
    {
     "data": {
      "text/plain": [
       "(59288, 10)"
      ]
     },
     "execution_count": 10,
     "metadata": {},
     "output_type": "execute_result"
    }
   ],
   "source": [
    "X_train.shape"
   ]
  },
  {
   "cell_type": "code",
   "execution_count": 11,
   "id": "7ff5bbe3",
   "metadata": {
    "execution": {
     "iopub.execute_input": "2024-07-08T00:52:15.496463Z",
     "iopub.status.busy": "2024-07-08T00:52:15.496056Z",
     "iopub.status.idle": "2024-07-08T00:52:15.505310Z",
     "shell.execute_reply": "2024-07-08T00:52:15.504247Z"
    },
    "papermill": {
     "duration": 0.028153,
     "end_time": "2024-07-08T00:52:15.507712",
     "exception": false,
     "start_time": "2024-07-08T00:52:15.479559",
     "status": "completed"
    },
    "tags": []
   },
   "outputs": [
    {
     "data": {
      "text/plain": [
       "float64    5\n",
       "object     4\n",
       "int64      1\n",
       "Name: count, dtype: int64"
      ]
     },
     "execution_count": 11,
     "metadata": {},
     "output_type": "execute_result"
    }
   ],
   "source": [
    "X_train.dtypes.value_counts()"
   ]
  },
  {
   "cell_type": "code",
   "execution_count": 12,
   "id": "5150a64f",
   "metadata": {
    "execution": {
     "iopub.execute_input": "2024-07-08T00:52:15.539832Z",
     "iopub.status.busy": "2024-07-08T00:52:15.539395Z",
     "iopub.status.idle": "2024-07-08T00:52:15.560389Z",
     "shell.execute_reply": "2024-07-08T00:52:15.559288Z"
    },
    "papermill": {
     "duration": 0.039601,
     "end_time": "2024-07-08T00:52:15.562745",
     "exception": false,
     "start_time": "2024-07-08T00:52:15.523144",
     "status": "completed"
    },
    "tags": []
   },
   "outputs": [
    {
     "data": {
      "text/plain": [
       "id                          0\n",
       "room_type                   4\n",
       "accommodates                2\n",
       "bathrooms                 162\n",
       "cancellation_policy         5\n",
       "cleaning_fee                3\n",
       "instant_bookable            0\n",
       "review_scores_rating    13395\n",
       "bedrooms                   79\n",
       "beds                      104\n",
       "dtype: int64"
      ]
     },
     "execution_count": 12,
     "metadata": {},
     "output_type": "execute_result"
    }
   ],
   "source": [
    "X_train.isnull().sum()"
   ]
  },
  {
   "cell_type": "code",
   "execution_count": 13,
   "id": "69b403be",
   "metadata": {
    "execution": {
     "iopub.execute_input": "2024-07-08T00:52:15.650937Z",
     "iopub.status.busy": "2024-07-08T00:52:15.650530Z",
     "iopub.status.idle": "2024-07-08T00:52:15.671583Z",
     "shell.execute_reply": "2024-07-08T00:52:15.670223Z"
    },
    "papermill": {
     "duration": 0.096331,
     "end_time": "2024-07-08T00:52:15.673948",
     "exception": false,
     "start_time": "2024-07-08T00:52:15.577617",
     "status": "completed"
    },
    "tags": []
   },
   "outputs": [
    {
     "name": "stdout",
     "output_type": "stream",
     "text": [
      "room_type                0.006747\n",
      "accommodates             0.003373\n",
      "bathrooms                0.273242\n",
      "cancellation_policy      0.008433\n",
      "cleaning_fee             0.005060\n",
      "review_scores_rating    22.593105\n",
      "bedrooms                 0.133248\n",
      "beds                     0.175415\n",
      "dtype: float64\n"
     ]
    }
   ],
   "source": [
    "#df.isnull().sum()/len(df)*100 ( Use either any one code )\n",
    "\n",
    "missing_values = X_train.isnull().sum()\n",
    "\n",
    "missing_values = missing_values[missing_values > 0]\n",
    "\n",
    "missing_percentage = (missing_values / len(X_train)) * 100\n",
    "\n",
    "print(missing_percentage)"
   ]
  },
  {
   "cell_type": "code",
   "execution_count": 14,
   "id": "6e35cf6a",
   "metadata": {
    "execution": {
     "iopub.execute_input": "2024-07-08T00:52:15.705819Z",
     "iopub.status.busy": "2024-07-08T00:52:15.705397Z",
     "iopub.status.idle": "2024-07-08T00:52:15.713131Z",
     "shell.execute_reply": "2024-07-08T00:52:15.711952Z"
    },
    "papermill": {
     "duration": 0.026347,
     "end_time": "2024-07-08T00:52:15.715375",
     "exception": false,
     "start_time": "2024-07-08T00:52:15.689028",
     "status": "completed"
    },
    "tags": []
   },
   "outputs": [
    {
     "data": {
      "text/plain": [
       "Index(['room_type', 'accommodates', 'bathrooms', 'cancellation_policy',\n",
       "       'cleaning_fee', 'review_scores_rating', 'bedrooms', 'beds'],\n",
       "      dtype='object')"
      ]
     },
     "execution_count": 14,
     "metadata": {},
     "output_type": "execute_result"
    }
   ],
   "source": [
    "columns_to_fill = missing_percentage[missing_percentage < 30].index\n",
    "columns_to_fill"
   ]
  },
  {
   "cell_type": "code",
   "execution_count": 15,
   "id": "c453718c",
   "metadata": {
    "execution": {
     "iopub.execute_input": "2024-07-08T00:52:15.748148Z",
     "iopub.status.busy": "2024-07-08T00:52:15.747387Z",
     "iopub.status.idle": "2024-07-08T00:52:15.805989Z",
     "shell.execute_reply": "2024-07-08T00:52:15.804571Z"
    },
    "papermill": {
     "duration": 0.078534,
     "end_time": "2024-07-08T00:52:15.809166",
     "exception": false,
     "start_time": "2024-07-08T00:52:15.730632",
     "status": "completed"
    },
    "tags": []
   },
   "outputs": [
    {
     "name": "stderr",
     "output_type": "stream",
     "text": [
      "/tmp/ipykernel_18/3455959922.py:5: FutureWarning: Downcasting object dtype arrays on .fillna, .ffill, .bfill is deprecated and will change in a future version. Call result.infer_objects(copy=False) instead. To opt-in to the future behavior, set `pd.set_option('future.no_silent_downcasting', True)`\n",
      "  X_train[column] = X_train[column].fillna(X_train[column].mode()[0])\n"
     ]
    },
    {
     "data": {
      "text/html": [
       "<div>\n",
       "<style scoped>\n",
       "    .dataframe tbody tr th:only-of-type {\n",
       "        vertical-align: middle;\n",
       "    }\n",
       "\n",
       "    .dataframe tbody tr th {\n",
       "        vertical-align: top;\n",
       "    }\n",
       "\n",
       "    .dataframe thead th {\n",
       "        text-align: right;\n",
       "    }\n",
       "</style>\n",
       "<table border=\"1\" class=\"dataframe\">\n",
       "  <thead>\n",
       "    <tr style=\"text-align: right;\">\n",
       "      <th></th>\n",
       "      <th>id</th>\n",
       "      <th>room_type</th>\n",
       "      <th>accommodates</th>\n",
       "      <th>bathrooms</th>\n",
       "      <th>cancellation_policy</th>\n",
       "      <th>cleaning_fee</th>\n",
       "      <th>instant_bookable</th>\n",
       "      <th>review_scores_rating</th>\n",
       "      <th>bedrooms</th>\n",
       "      <th>beds</th>\n",
       "    </tr>\n",
       "  </thead>\n",
       "  <tbody>\n",
       "    <tr>\n",
       "      <th>12048</th>\n",
       "      <td>760827</td>\n",
       "      <td>Entire home/apt</td>\n",
       "      <td>4.0</td>\n",
       "      <td>1.5</td>\n",
       "      <td>flexible</td>\n",
       "      <td>False</td>\n",
       "      <td>f</td>\n",
       "      <td>97.000000</td>\n",
       "      <td>2.0</td>\n",
       "      <td>3.0</td>\n",
       "    </tr>\n",
       "    <tr>\n",
       "      <th>48255</th>\n",
       "      <td>3257345</td>\n",
       "      <td>Entire home/apt</td>\n",
       "      <td>2.0</td>\n",
       "      <td>1.0</td>\n",
       "      <td>strict</td>\n",
       "      <td>True</td>\n",
       "      <td>t</td>\n",
       "      <td>87.000000</td>\n",
       "      <td>1.0</td>\n",
       "      <td>1.0</td>\n",
       "    </tr>\n",
       "    <tr>\n",
       "      <th>39959</th>\n",
       "      <td>13355012</td>\n",
       "      <td>Entire home/apt</td>\n",
       "      <td>4.0</td>\n",
       "      <td>1.0</td>\n",
       "      <td>strict</td>\n",
       "      <td>True</td>\n",
       "      <td>t</td>\n",
       "      <td>80.000000</td>\n",
       "      <td>0.0</td>\n",
       "      <td>2.0</td>\n",
       "    </tr>\n",
       "    <tr>\n",
       "      <th>14926</th>\n",
       "      <td>4565981</td>\n",
       "      <td>Private room</td>\n",
       "      <td>2.0</td>\n",
       "      <td>1.0</td>\n",
       "      <td>flexible</td>\n",
       "      <td>True</td>\n",
       "      <td>f</td>\n",
       "      <td>94.076526</td>\n",
       "      <td>1.0</td>\n",
       "      <td>1.0</td>\n",
       "    </tr>\n",
       "    <tr>\n",
       "      <th>776</th>\n",
       "      <td>6940108</td>\n",
       "      <td>Entire home/apt</td>\n",
       "      <td>3.0</td>\n",
       "      <td>1.0</td>\n",
       "      <td>moderate</td>\n",
       "      <td>True</td>\n",
       "      <td>f</td>\n",
       "      <td>99.000000</td>\n",
       "      <td>1.0</td>\n",
       "      <td>1.0</td>\n",
       "    </tr>\n",
       "    <tr>\n",
       "      <th>...</th>\n",
       "      <td>...</td>\n",
       "      <td>...</td>\n",
       "      <td>...</td>\n",
       "      <td>...</td>\n",
       "      <td>...</td>\n",
       "      <td>...</td>\n",
       "      <td>...</td>\n",
       "      <td>...</td>\n",
       "      <td>...</td>\n",
       "      <td>...</td>\n",
       "    </tr>\n",
       "    <tr>\n",
       "      <th>37194</th>\n",
       "      <td>15101498</td>\n",
       "      <td>Private room</td>\n",
       "      <td>2.0</td>\n",
       "      <td>1.5</td>\n",
       "      <td>strict</td>\n",
       "      <td>True</td>\n",
       "      <td>f</td>\n",
       "      <td>100.000000</td>\n",
       "      <td>1.0</td>\n",
       "      <td>1.0</td>\n",
       "    </tr>\n",
       "    <tr>\n",
       "      <th>6265</th>\n",
       "      <td>298258</td>\n",
       "      <td>Private room</td>\n",
       "      <td>1.0</td>\n",
       "      <td>1.0</td>\n",
       "      <td>flexible</td>\n",
       "      <td>True</td>\n",
       "      <td>f</td>\n",
       "      <td>90.000000</td>\n",
       "      <td>1.0</td>\n",
       "      <td>1.0</td>\n",
       "    </tr>\n",
       "    <tr>\n",
       "      <th>54886</th>\n",
       "      <td>4917508</td>\n",
       "      <td>Entire home/apt</td>\n",
       "      <td>5.0</td>\n",
       "      <td>2.0</td>\n",
       "      <td>strict</td>\n",
       "      <td>True</td>\n",
       "      <td>f</td>\n",
       "      <td>91.000000</td>\n",
       "      <td>2.0</td>\n",
       "      <td>2.0</td>\n",
       "    </tr>\n",
       "    <tr>\n",
       "      <th>860</th>\n",
       "      <td>16645828</td>\n",
       "      <td>Private room</td>\n",
       "      <td>2.0</td>\n",
       "      <td>1.0</td>\n",
       "      <td>strict</td>\n",
       "      <td>True</td>\n",
       "      <td>f</td>\n",
       "      <td>94.076526</td>\n",
       "      <td>1.0</td>\n",
       "      <td>1.0</td>\n",
       "    </tr>\n",
       "    <tr>\n",
       "      <th>15795</th>\n",
       "      <td>17797691</td>\n",
       "      <td>Private room</td>\n",
       "      <td>2.0</td>\n",
       "      <td>1.0</td>\n",
       "      <td>flexible</td>\n",
       "      <td>False</td>\n",
       "      <td>f</td>\n",
       "      <td>100.000000</td>\n",
       "      <td>1.0</td>\n",
       "      <td>1.0</td>\n",
       "    </tr>\n",
       "  </tbody>\n",
       "</table>\n",
       "<p>59288 rows × 10 columns</p>\n",
       "</div>"
      ],
      "text/plain": [
       "             id        room_type  accommodates  bathrooms cancellation_policy  \\\n",
       "12048    760827  Entire home/apt           4.0        1.5            flexible   \n",
       "48255   3257345  Entire home/apt           2.0        1.0              strict   \n",
       "39959  13355012  Entire home/apt           4.0        1.0              strict   \n",
       "14926   4565981     Private room           2.0        1.0            flexible   \n",
       "776     6940108  Entire home/apt           3.0        1.0            moderate   \n",
       "...         ...              ...           ...        ...                 ...   \n",
       "37194  15101498     Private room           2.0        1.5              strict   \n",
       "6265     298258     Private room           1.0        1.0            flexible   \n",
       "54886   4917508  Entire home/apt           5.0        2.0              strict   \n",
       "860    16645828     Private room           2.0        1.0              strict   \n",
       "15795  17797691     Private room           2.0        1.0            flexible   \n",
       "\n",
       "       cleaning_fee instant_bookable  review_scores_rating  bedrooms  beds  \n",
       "12048         False                f             97.000000       2.0   3.0  \n",
       "48255          True                t             87.000000       1.0   1.0  \n",
       "39959          True                t             80.000000       0.0   2.0  \n",
       "14926          True                f             94.076526       1.0   1.0  \n",
       "776            True                f             99.000000       1.0   1.0  \n",
       "...             ...              ...                   ...       ...   ...  \n",
       "37194          True                f            100.000000       1.0   1.0  \n",
       "6265           True                f             90.000000       1.0   1.0  \n",
       "54886          True                f             91.000000       2.0   2.0  \n",
       "860            True                f             94.076526       1.0   1.0  \n",
       "15795         False                f            100.000000       1.0   1.0  \n",
       "\n",
       "[59288 rows x 10 columns]"
      ]
     },
     "execution_count": 15,
     "metadata": {},
     "output_type": "execute_result"
    }
   ],
   "source": [
    "for column in columns_to_fill:\n",
    "    if X_train[column].dtype == \"float64\" or X_train[column].dtype == \"int64\":\n",
    "        X_train[column] = X_train[column].fillna(X_train[column].mean())\n",
    "    else:\n",
    "        X_train[column] = X_train[column].fillna(X_train[column].mode()[0])\n",
    "\n",
    "# Display the DataFrame\n",
    "X_train"
   ]
  },
  {
   "cell_type": "code",
   "execution_count": 16,
   "id": "85d00247",
   "metadata": {
    "execution": {
     "iopub.execute_input": "2024-07-08T00:52:15.842117Z",
     "iopub.status.busy": "2024-07-08T00:52:15.841720Z",
     "iopub.status.idle": "2024-07-08T00:52:15.860865Z",
     "shell.execute_reply": "2024-07-08T00:52:15.859832Z"
    },
    "papermill": {
     "duration": 0.038399,
     "end_time": "2024-07-08T00:52:15.863273",
     "exception": false,
     "start_time": "2024-07-08T00:52:15.824874",
     "status": "completed"
    },
    "tags": []
   },
   "outputs": [
    {
     "data": {
      "text/plain": [
       "id                      0\n",
       "room_type               0\n",
       "accommodates            0\n",
       "bathrooms               0\n",
       "cancellation_policy     0\n",
       "cleaning_fee            0\n",
       "instant_bookable        0\n",
       "review_scores_rating    0\n",
       "bedrooms                0\n",
       "beds                    0\n",
       "dtype: int64"
      ]
     },
     "execution_count": 16,
     "metadata": {},
     "output_type": "execute_result"
    }
   ],
   "source": [
    "X_train.isnull().sum()"
   ]
  },
  {
   "cell_type": "code",
   "execution_count": 17,
   "id": "ceeba1d0",
   "metadata": {
    "execution": {
     "iopub.execute_input": "2024-07-08T00:52:15.897317Z",
     "iopub.status.busy": "2024-07-08T00:52:15.896887Z",
     "iopub.status.idle": "2024-07-08T00:52:15.915682Z",
     "shell.execute_reply": "2024-07-08T00:52:15.914566Z"
    },
    "papermill": {
     "duration": 0.038347,
     "end_time": "2024-07-08T00:52:15.918036",
     "exception": false,
     "start_time": "2024-07-08T00:52:15.879689",
     "status": "completed"
    },
    "tags": []
   },
   "outputs": [
    {
     "data": {
      "text/plain": [
       "0"
      ]
     },
     "execution_count": 17,
     "metadata": {},
     "output_type": "execute_result"
    }
   ],
   "source": [
    "X_train.isnull().sum().sum()"
   ]
  },
  {
   "cell_type": "code",
   "execution_count": 18,
   "id": "38c5050b",
   "metadata": {
    "execution": {
     "iopub.execute_input": "2024-07-08T00:52:15.951565Z",
     "iopub.status.busy": "2024-07-08T00:52:15.951141Z",
     "iopub.status.idle": "2024-07-08T00:52:15.963977Z",
     "shell.execute_reply": "2024-07-08T00:52:15.962707Z"
    },
    "papermill": {
     "duration": 0.032429,
     "end_time": "2024-07-08T00:52:15.966501",
     "exception": false,
     "start_time": "2024-07-08T00:52:15.934072",
     "status": "completed"
    },
    "tags": []
   },
   "outputs": [
    {
     "data": {
      "text/plain": [
       "59288"
      ]
     },
     "execution_count": 18,
     "metadata": {},
     "output_type": "execute_result"
    }
   ],
   "source": [
    "X_train.id.nunique()"
   ]
  },
  {
   "cell_type": "code",
   "execution_count": 19,
   "id": "4528df1e",
   "metadata": {
    "execution": {
     "iopub.execute_input": "2024-07-08T00:52:16.000295Z",
     "iopub.status.busy": "2024-07-08T00:52:15.999912Z",
     "iopub.status.idle": "2024-07-08T00:52:16.011075Z",
     "shell.execute_reply": "2024-07-08T00:52:16.010082Z"
    },
    "papermill": {
     "duration": 0.03117,
     "end_time": "2024-07-08T00:52:16.013718",
     "exception": false,
     "start_time": "2024-07-08T00:52:15.982548",
     "status": "completed"
    },
    "tags": []
   },
   "outputs": [],
   "source": [
    "X_train.drop(columns=['id'], inplace=True)"
   ]
  },
  {
   "cell_type": "code",
   "execution_count": 20,
   "id": "f3fc63cf",
   "metadata": {
    "execution": {
     "iopub.execute_input": "2024-07-08T00:52:16.048604Z",
     "iopub.status.busy": "2024-07-08T00:52:16.047320Z",
     "iopub.status.idle": "2024-07-08T00:52:16.058901Z",
     "shell.execute_reply": "2024-07-08T00:52:16.057634Z"
    },
    "papermill": {
     "duration": 0.031823,
     "end_time": "2024-07-08T00:52:16.061880",
     "exception": false,
     "start_time": "2024-07-08T00:52:16.030057",
     "status": "completed"
    },
    "tags": []
   },
   "outputs": [],
   "source": [
    "num_data = X_train.select_dtypes(include=np.number).columns.tolist()"
   ]
  },
  {
   "cell_type": "code",
   "execution_count": 21,
   "id": "d9e70aef",
   "metadata": {
    "execution": {
     "iopub.execute_input": "2024-07-08T00:52:16.095443Z",
     "iopub.status.busy": "2024-07-08T00:52:16.095066Z",
     "iopub.status.idle": "2024-07-08T00:52:16.105551Z",
     "shell.execute_reply": "2024-07-08T00:52:16.104556Z"
    },
    "papermill": {
     "duration": 0.030343,
     "end_time": "2024-07-08T00:52:16.108141",
     "exception": false,
     "start_time": "2024-07-08T00:52:16.077798",
     "status": "completed"
    },
    "tags": []
   },
   "outputs": [],
   "source": [
    "cat_data = X_train.select_dtypes(exclude=np.number).columns.tolist()"
   ]
  },
  {
   "cell_type": "code",
   "execution_count": 22,
   "id": "84399ff2",
   "metadata": {
    "execution": {
     "iopub.execute_input": "2024-07-08T00:52:16.142622Z",
     "iopub.status.busy": "2024-07-08T00:52:16.141592Z",
     "iopub.status.idle": "2024-07-08T00:52:16.157168Z",
     "shell.execute_reply": "2024-07-08T00:52:16.156073Z"
    },
    "papermill": {
     "duration": 0.035576,
     "end_time": "2024-07-08T00:52:16.159685",
     "exception": false,
     "start_time": "2024-07-08T00:52:16.124109",
     "status": "completed"
    },
    "tags": []
   },
   "outputs": [
    {
     "data": {
      "text/html": [
       "<div>\n",
       "<style scoped>\n",
       "    .dataframe tbody tr th:only-of-type {\n",
       "        vertical-align: middle;\n",
       "    }\n",
       "\n",
       "    .dataframe tbody tr th {\n",
       "        vertical-align: top;\n",
       "    }\n",
       "\n",
       "    .dataframe thead th {\n",
       "        text-align: right;\n",
       "    }\n",
       "</style>\n",
       "<table border=\"1\" class=\"dataframe\">\n",
       "  <thead>\n",
       "    <tr style=\"text-align: right;\">\n",
       "      <th></th>\n",
       "      <th>room_type</th>\n",
       "      <th>cancellation_policy</th>\n",
       "      <th>cleaning_fee</th>\n",
       "      <th>instant_bookable</th>\n",
       "    </tr>\n",
       "  </thead>\n",
       "  <tbody>\n",
       "    <tr>\n",
       "      <th>0</th>\n",
       "      <td>Entire home/apt</td>\n",
       "      <td>strict</td>\n",
       "      <td>True</td>\n",
       "      <td>f</td>\n",
       "    </tr>\n",
       "    <tr>\n",
       "      <th>1</th>\n",
       "      <td>Entire home/apt</td>\n",
       "      <td>strict</td>\n",
       "      <td>True</td>\n",
       "      <td>t</td>\n",
       "    </tr>\n",
       "    <tr>\n",
       "      <th>2</th>\n",
       "      <td>Entire home/apt</td>\n",
       "      <td>moderate</td>\n",
       "      <td>True</td>\n",
       "      <td>t</td>\n",
       "    </tr>\n",
       "    <tr>\n",
       "      <th>3</th>\n",
       "      <td>Entire home/apt</td>\n",
       "      <td>flexible</td>\n",
       "      <td>True</td>\n",
       "      <td>f</td>\n",
       "    </tr>\n",
       "    <tr>\n",
       "      <th>4</th>\n",
       "      <td>Entire home/apt</td>\n",
       "      <td>moderate</td>\n",
       "      <td>True</td>\n",
       "      <td>t</td>\n",
       "    </tr>\n",
       "    <tr>\n",
       "      <th>...</th>\n",
       "      <td>...</td>\n",
       "      <td>...</td>\n",
       "      <td>...</td>\n",
       "      <td>...</td>\n",
       "    </tr>\n",
       "    <tr>\n",
       "      <th>74106</th>\n",
       "      <td>Private room</td>\n",
       "      <td>flexible</td>\n",
       "      <td>False</td>\n",
       "      <td>f</td>\n",
       "    </tr>\n",
       "    <tr>\n",
       "      <th>74107</th>\n",
       "      <td>Entire home/apt</td>\n",
       "      <td>moderate</td>\n",
       "      <td>True</td>\n",
       "      <td>f</td>\n",
       "    </tr>\n",
       "    <tr>\n",
       "      <th>74108</th>\n",
       "      <td>Entire home/apt</td>\n",
       "      <td>moderate</td>\n",
       "      <td>True</td>\n",
       "      <td>t</td>\n",
       "    </tr>\n",
       "    <tr>\n",
       "      <th>74109</th>\n",
       "      <td>Entire home/apt</td>\n",
       "      <td>strict</td>\n",
       "      <td>True</td>\n",
       "      <td>t</td>\n",
       "    </tr>\n",
       "    <tr>\n",
       "      <th>74110</th>\n",
       "      <td>Entire home/apt</td>\n",
       "      <td>moderate</td>\n",
       "      <td>False</td>\n",
       "      <td>f</td>\n",
       "    </tr>\n",
       "  </tbody>\n",
       "</table>\n",
       "<p>74111 rows × 4 columns</p>\n",
       "</div>"
      ],
      "text/plain": [
       "             room_type cancellation_policy cleaning_fee instant_bookable\n",
       "0      Entire home/apt              strict         True                f\n",
       "1      Entire home/apt              strict         True                t\n",
       "2      Entire home/apt            moderate         True                t\n",
       "3      Entire home/apt            flexible         True                f\n",
       "4      Entire home/apt            moderate         True                t\n",
       "...                ...                 ...          ...              ...\n",
       "74106     Private room            flexible        False                f\n",
       "74107  Entire home/apt            moderate         True                f\n",
       "74108  Entire home/apt            moderate         True                t\n",
       "74109  Entire home/apt              strict         True                t\n",
       "74110  Entire home/apt            moderate        False                f\n",
       "\n",
       "[74111 rows x 4 columns]"
      ]
     },
     "execution_count": 22,
     "metadata": {},
     "output_type": "execute_result"
    }
   ],
   "source": [
    "cat_data_df = df[cat_data]\n",
    "cat_data_df"
   ]
  },
  {
   "cell_type": "code",
   "execution_count": 23,
   "id": "44c4e42c",
   "metadata": {
    "execution": {
     "iopub.execute_input": "2024-07-08T00:52:16.195279Z",
     "iopub.status.busy": "2024-07-08T00:52:16.194451Z",
     "iopub.status.idle": "2024-07-08T00:52:16.217697Z",
     "shell.execute_reply": "2024-07-08T00:52:16.216546Z"
    },
    "papermill": {
     "duration": 0.043849,
     "end_time": "2024-07-08T00:52:16.220157",
     "exception": false,
     "start_time": "2024-07-08T00:52:16.176308",
     "status": "completed"
    },
    "tags": []
   },
   "outputs": [
    {
     "data": {
      "text/plain": [
       "room_type              5\n",
       "cancellation_policy    8\n",
       "cleaning_fee           4\n",
       "instant_bookable       0\n",
       "dtype: int64"
      ]
     },
     "execution_count": 23,
     "metadata": {},
     "output_type": "execute_result"
    }
   ],
   "source": [
    "cat_data_df.isnull().sum()"
   ]
  },
  {
   "cell_type": "code",
   "execution_count": null,
   "id": "519254de",
   "metadata": {
    "papermill": {
     "duration": 0.016103,
     "end_time": "2024-07-08T00:52:16.252833",
     "exception": false,
     "start_time": "2024-07-08T00:52:16.236730",
     "status": "completed"
    },
    "tags": []
   },
   "outputs": [],
   "source": []
  },
  {
   "cell_type": "code",
   "execution_count": 24,
   "id": "e3c33a86",
   "metadata": {
    "execution": {
     "iopub.execute_input": "2024-07-08T00:52:16.288990Z",
     "iopub.status.busy": "2024-07-08T00:52:16.288230Z",
     "iopub.status.idle": "2024-07-08T00:52:16.553905Z",
     "shell.execute_reply": "2024-07-08T00:52:16.552723Z"
    },
    "papermill": {
     "duration": 0.287093,
     "end_time": "2024-07-08T00:52:16.556333",
     "exception": false,
     "start_time": "2024-07-08T00:52:16.269240",
     "status": "completed"
    },
    "tags": []
   },
   "outputs": [
    {
     "data": {
      "image/png": "[encoded data removed]",
      "text/plain": [
       "<Figure size 500x500 with 1 Axes>"
      ]
     },
     "metadata": {},
     "output_type": "display_data"
    }
   ],
   "source": [
    "corr = X_train[num_data].corr()\n",
    "plt.subplots(1,1, figsize=(5,5))\n",
    "sns.heatmap(data=corr, cmap ='coolwarm', annot = corr, cbar=None)\n",
    "plt.title('Correlation between features')\n",
    "plt.show()"
   ]
  },
  {
   "cell_type": "markdown",
   "id": "1c3869f0",
   "metadata": {
    "papermill": {
     "duration": 0.016816,
     "end_time": "2024-07-08T00:52:16.590142",
     "exception": false,
     "start_time": "2024-07-08T00:52:16.573326",
     "status": "completed"
    },
    "tags": []
   },
   "source": [
    "* When you calculate the correlation matrix, it is symmetric, meaning the correlation of A with B is the same as the       correlation    of B with A. To avoid processing the same pair twice and to ignore the diagonal (which represents the  correlation of each feature with itself), you can use only the upper triangle of the matrix. \n",
    " \n",
    "* np.ones(corr.shape): Creates an array of ones with the same shape as the correlation matrix.\n",
    "\n",
    "* np.triu(..., k=1): Produces a mask for the upper triangle of the matrix, excluding the diagonal (since k=1). If you wanted  to include the diagonal, you would use k=0.\n",
    " \n",
    "* corr.where(...): Applies this mask to the correlation matrix, setting all elements not in the upper triangle to NaN."
   ]
  },
  {
   "cell_type": "code",
   "execution_count": 25,
   "id": "7f44aa08",
   "metadata": {
    "execution": {
     "iopub.execute_input": "2024-07-08T00:52:16.626299Z",
     "iopub.status.busy": "2024-07-08T00:52:16.625589Z",
     "iopub.status.idle": "2024-07-08T00:52:16.632439Z",
     "shell.execute_reply": "2024-07-08T00:52:16.631345Z"
    },
    "papermill": {
     "duration": 0.027546,
     "end_time": "2024-07-08T00:52:16.634678",
     "exception": false,
     "start_time": "2024-07-08T00:52:16.607132",
     "status": "completed"
    },
    "tags": []
   },
   "outputs": [],
   "source": [
    "# Identify pairs of highly correlated features\n",
    "upper = corr.where(np.triu(np.ones(corr.shape), k=1).astype(bool))\n",
    "\n"
   ]
  },
  {
   "cell_type": "code",
   "execution_count": 26,
   "id": "ce07bdc7",
   "metadata": {
    "execution": {
     "iopub.execute_input": "2024-07-08T00:52:16.671016Z",
     "iopub.status.busy": "2024-07-08T00:52:16.670618Z",
     "iopub.status.idle": "2024-07-08T00:52:16.677181Z",
     "shell.execute_reply": "2024-07-08T00:52:16.676144Z"
    },
    "papermill": {
     "duration": 0.027267,
     "end_time": "2024-07-08T00:52:16.679447",
     "exception": false,
     "start_time": "2024-07-08T00:52:16.652180",
     "status": "completed"
    },
    "tags": []
   },
   "outputs": [],
   "source": [
    "# Find columns with correlation greater than 0.6\n",
    "to_drop = [column for column in upper.columns if any(upper[column].abs() > 0.6)]"
   ]
  },
  {
   "cell_type": "code",
   "execution_count": 27,
   "id": "e86957b5",
   "metadata": {
    "execution": {
     "iopub.execute_input": "2024-07-08T00:52:16.715960Z",
     "iopub.status.busy": "2024-07-08T00:52:16.715581Z",
     "iopub.status.idle": "2024-07-08T00:52:16.725281Z",
     "shell.execute_reply": "2024-07-08T00:52:16.723998Z"
    },
    "papermill": {
     "duration": 0.030747,
     "end_time": "2024-07-08T00:52:16.727786",
     "exception": false,
     "start_time": "2024-07-08T00:52:16.697039",
     "status": "completed"
    },
    "tags": []
   },
   "outputs": [],
   "source": [
    "# Drop the columns with high correlation\n",
    "X_train_reduced = X_train.drop(columns=to_drop)"
   ]
  },
  {
   "cell_type": "code",
   "execution_count": 28,
   "id": "2a4bf159",
   "metadata": {
    "execution": {
     "iopub.execute_input": "2024-07-08T00:52:16.764756Z",
     "iopub.status.busy": "2024-07-08T00:52:16.763914Z",
     "iopub.status.idle": "2024-07-08T00:52:16.772657Z",
     "shell.execute_reply": "2024-07-08T00:52:16.771419Z"
    },
    "papermill": {
     "duration": 0.029636,
     "end_time": "2024-07-08T00:52:16.775014",
     "exception": false,
     "start_time": "2024-07-08T00:52:16.745378",
     "status": "completed"
    },
    "tags": []
   },
   "outputs": [],
   "source": [
    "# Recalculate the correlation matrix for the reduced DataFrame\n",
    "num_data_reduced = X_train_reduced.select_dtypes(include=['float64', 'int64']).columns"
   ]
  },
  {
   "cell_type": "code",
   "execution_count": 29,
   "id": "7c4ea629",
   "metadata": {
    "execution": {
     "iopub.execute_input": "2024-07-08T00:52:16.811087Z",
     "iopub.status.busy": "2024-07-08T00:52:16.810673Z",
     "iopub.status.idle": "2024-07-08T00:52:16.820333Z",
     "shell.execute_reply": "2024-07-08T00:52:16.819178Z"
    },
    "papermill": {
     "duration": 0.030686,
     "end_time": "2024-07-08T00:52:16.822848",
     "exception": false,
     "start_time": "2024-07-08T00:52:16.792162",
     "status": "completed"
    },
    "tags": []
   },
   "outputs": [],
   "source": [
    "# Recalculate the correlation matrix for the reduced DataFrame\n",
    "corr_reduced = X_train_reduced[num_data_reduced].corr()"
   ]
  },
  {
   "cell_type": "code",
   "execution_count": 30,
   "id": "ef344923",
   "metadata": {
    "execution": {
     "iopub.execute_input": "2024-07-08T00:52:16.859300Z",
     "iopub.status.busy": "2024-07-08T00:52:16.858897Z",
     "iopub.status.idle": "2024-07-08T00:52:17.055582Z",
     "shell.execute_reply": "2024-07-08T00:52:17.054375Z"
    },
    "papermill": {
     "duration": 0.217833,
     "end_time": "2024-07-08T00:52:17.058281",
     "exception": false,
     "start_time": "2024-07-08T00:52:16.840448",
     "status": "completed"
    },
    "tags": []
   },
   "outputs": [
    {
     "data": {
      "image/png": "[encoded data removed]",
      "text/plain": [
       "<Figure size 400x400 with 1 Axes>"
      ]
     },
     "metadata": {},
     "output_type": "display_data"
    }
   ],
   "source": [
    "plt.figure(figsize=(4, 4))\n",
    "sns.heatmap(data=corr_reduced, cmap='coolwarm', annot=True, cbar=None)\n",
    "plt.title('Correlation between features (Reduced)')\n",
    "plt.show()"
   ]
  },
  {
   "cell_type": "markdown",
   "id": "d7df8cec",
   "metadata": {
    "papermill": {
     "duration": 0.01811,
     "end_time": "2024-07-08T00:52:17.094445",
     "exception": false,
     "start_time": "2024-07-08T00:52:17.076335",
     "status": "completed"
    },
    "tags": []
   },
   "source": [
    "# **Check Outliers and Distributions**"
   ]
  },
  {
   "cell_type": "code",
   "execution_count": 31,
   "id": "93dc3c1d",
   "metadata": {
    "execution": {
     "iopub.execute_input": "2024-07-08T00:52:17.132718Z",
     "iopub.status.busy": "2024-07-08T00:52:17.131841Z",
     "iopub.status.idle": "2024-07-08T00:52:18.120303Z",
     "shell.execute_reply": "2024-07-08T00:52:18.119109Z"
    },
    "papermill": {
     "duration": 1.010556,
     "end_time": "2024-07-08T00:52:18.122694",
     "exception": false,
     "start_time": "2024-07-08T00:52:17.112138",
     "status": "completed"
    },
    "tags": []
   },
   "outputs": [
    {
     "data": {
      "image/png": "[encoded data removed]",
      "text/plain": [
       "<Figure size 600x1000 with 5 Axes>"
      ]
     },
     "metadata": {},
     "output_type": "display_data"
    }
   ],
   "source": [
    "fig, ax = plt.subplots(len(num_data), 1, figsize=(6, 10))\n",
    "for axs, feature in zip(ax, num_data):\n",
    "    X_train[[feature]].boxplot(ax=axs)"
   ]
  },
  {
   "cell_type": "markdown",
   "id": "c6b916d2",
   "metadata": {
    "papermill": {
     "duration": 0.023751,
     "end_time": "2024-07-08T00:52:18.166504",
     "exception": false,
     "start_time": "2024-07-08T00:52:18.142753",
     "status": "completed"
    },
    "tags": []
   },
   "source": [
    "# Target Exploration"
   ]
  },
  {
   "cell_type": "code",
   "execution_count": 32,
   "id": "dde881a6",
   "metadata": {
    "execution": {
     "iopub.execute_input": "2024-07-08T00:52:18.219178Z",
     "iopub.status.busy": "2024-07-08T00:52:18.218795Z",
     "iopub.status.idle": "2024-07-08T00:52:18.231676Z",
     "shell.execute_reply": "2024-07-08T00:52:18.230497Z"
    },
    "papermill": {
     "duration": 0.041305,
     "end_time": "2024-07-08T00:52:18.233899",
     "exception": false,
     "start_time": "2024-07-08T00:52:18.192594",
     "status": "completed"
    },
    "tags": []
   },
   "outputs": [
    {
     "data": {
      "text/plain": [
       "log_price\n",
       "5.010635    2193\n",
       "4.605170    2137\n",
       "4.317488    1637\n",
       "5.298317    1572\n",
       "3.912023    1519\n",
       "            ... \n",
       "7.569412       1\n",
       "6.639876       1\n",
       "6.510258       1\n",
       "6.682109       1\n",
       "6.831954       1\n",
       "Name: count, Length: 722, dtype: int64"
      ]
     },
     "execution_count": 32,
     "metadata": {},
     "output_type": "execute_result"
    }
   ],
   "source": [
    "y_train.value_counts()"
   ]
  },
  {
   "cell_type": "code",
   "execution_count": 33,
   "id": "b971ba42",
   "metadata": {
    "execution": {
     "iopub.execute_input": "2024-07-08T00:52:18.273094Z",
     "iopub.status.busy": "2024-07-08T00:52:18.271985Z",
     "iopub.status.idle": "2024-07-08T00:52:18.284725Z",
     "shell.execute_reply": "2024-07-08T00:52:18.283613Z"
    },
    "papermill": {
     "duration": 0.034777,
     "end_time": "2024-07-08T00:52:18.287177",
     "exception": false,
     "start_time": "2024-07-08T00:52:18.252400",
     "status": "completed"
    },
    "tags": []
   },
   "outputs": [],
   "source": [
    "X = df.drop('log_price', axis=1)\n",
    "y = df['log_price']"
   ]
  },
  {
   "cell_type": "markdown",
   "id": "bd268b0c",
   "metadata": {
    "papermill": {
     "duration": 0.01806,
     "end_time": "2024-07-08T00:52:18.324007",
     "exception": false,
     "start_time": "2024-07-08T00:52:18.305947",
     "status": "completed"
    },
    "tags": []
   },
   "source": [
    "# **Regression Models**"
   ]
  },
  {
   "cell_type": "code",
   "execution_count": 34,
   "id": "90cf6bf0",
   "metadata": {
    "execution": {
     "iopub.execute_input": "2024-07-08T00:52:18.362463Z",
     "iopub.status.busy": "2024-07-08T00:52:18.362081Z",
     "iopub.status.idle": "2024-07-08T00:52:18.403218Z",
     "shell.execute_reply": "2024-07-08T00:52:18.400171Z"
    },
    "papermill": {
     "duration": 0.063806,
     "end_time": "2024-07-08T00:52:18.406127",
     "exception": false,
     "start_time": "2024-07-08T00:52:18.342321",
     "status": "completed"
    },
    "tags": []
   },
   "outputs": [
    {
     "data": {
      "text/html": [
       "<style>#sk-container-id-1 {color: black;background-color: white;}#sk-container-id-1 pre{padding: 0;}#sk-container-id-1 div.sk-toggleable {background-color: white;}#sk-container-id-1 label.sk-toggleable__label {cursor: pointer;display: block;width: 100%;margin-bottom: 0;padding: 0.3em;box-sizing: border-box;text-align: center;}#sk-container-id-1 label.sk-toggleable__label-arrow:before {content: \"▸\";float: left;margin-right: 0.25em;color: #696969;}#sk-container-id-1 label.sk-toggleable__label-arrow:hover:before {color: black;}#sk-container-id-1 div.sk-estimator:hover label.sk-toggleable__label-arrow:before {color: black;}#sk-container-id-1 div.sk-toggleable__content {max-height: 0;max-width: 0;overflow: hidden;text-align: left;background-color: #f0f8ff;}#sk-container-id-1 div.sk-toggleable__content pre {margin: 0.2em;color: black;border-radius: 0.25em;background-color: #f0f8ff;}#sk-container-id-1 input.sk-toggleable__control:checked~div.sk-toggleable__content {max-height: 200px;max-width: 100%;overflow: auto;}#sk-container-id-1 input.sk-toggleable__control:checked~label.sk-toggleable__label-arrow:before {content: \"▾\";}#sk-container-id-1 div.sk-estimator input.sk-toggleable__control:checked~label.sk-toggleable__label {background-color: #d4ebff;}#sk-container-id-1 div.sk-label input.sk-toggleable__control:checked~label.sk-toggleable__label {background-color: #d4ebff;}#sk-container-id-1 input.sk-hidden--visually {border: 0;clip: rect(1px 1px 1px 1px);clip: rect(1px, 1px, 1px, 1px);height: 1px;margin: -1px;overflow: hidden;padding: 0;position: absolute;width: 1px;}#sk-container-id-1 div.sk-estimator {font-family: monospace;background-color: #f0f8ff;border: 1px dotted black;border-radius: 0.25em;box-sizing: border-box;margin-bottom: 0.5em;}#sk-container-id-1 div.sk-estimator:hover {background-color: #d4ebff;}#sk-container-id-1 div.sk-parallel-item::after {content: \"\";width: 100%;border-bottom: 1px solid gray;flex-grow: 1;}#sk-container-id-1 div.sk-label:hover label.sk-toggleable__label {background-color: #d4ebff;}#sk-container-id-1 div.sk-serial::before {content: \"\";position: absolute;border-left: 1px solid gray;box-sizing: border-box;top: 0;bottom: 0;left: 50%;z-index: 0;}#sk-container-id-1 div.sk-serial {display: flex;flex-direction: column;align-items: center;background-color: white;padding-right: 0.2em;padding-left: 0.2em;position: relative;}#sk-container-id-1 div.sk-item {position: relative;z-index: 1;}#sk-container-id-1 div.sk-parallel {display: flex;align-items: stretch;justify-content: center;background-color: white;position: relative;}#sk-container-id-1 div.sk-item::before, #sk-container-id-1 div.sk-parallel-item::before {content: \"\";position: absolute;border-left: 1px solid gray;box-sizing: border-box;top: 0;bottom: 0;left: 50%;z-index: -1;}#sk-container-id-1 div.sk-parallel-item {display: flex;flex-direction: column;z-index: 1;position: relative;background-color: white;}#sk-container-id-1 div.sk-parallel-item:first-child::after {align-self: flex-end;width: 50%;}#sk-container-id-1 div.sk-parallel-item:last-child::after {align-self: flex-start;width: 50%;}#sk-container-id-1 div.sk-parallel-item:only-child::after {width: 0;}#sk-container-id-1 div.sk-dashed-wrapped {border: 1px dashed gray;margin: 0 0.4em 0.5em 0.4em;box-sizing: border-box;padding-bottom: 0.4em;background-color: white;}#sk-container-id-1 div.sk-label label {font-family: monospace;font-weight: bold;display: inline-block;line-height: 1.2em;}#sk-container-id-1 div.sk-label-container {text-align: center;}#sk-container-id-1 div.sk-container {/* jupyter's `normalize.less` sets `[hidden] { display: none; }` but bootstrap.min.css set `[hidden] { display: none !important; }` so we also need the `!important` here to be able to override the default hidden behavior on the sphinx rendered scikit-learn.org. See: https://github.com/scikit-learn/scikit-learn/issues/21755 */display: inline-block !important;position: relative;}#sk-container-id-1 div.sk-text-repr-fallback {display: none;}</style><div id=\"sk-container-id-1\" class=\"sk-top-container\"><div class=\"sk-text-repr-fallback\"><pre>ColumnTransformer(transformers=[(&#x27;num_pipe&#x27;,\n",
       "                                 Pipeline(steps=[(&#x27;simpleimputer&#x27;,\n",
       "                                                  SimpleImputer()),\n",
       "                                                 (&#x27;minmaxscaler&#x27;,\n",
       "                                                  MinMaxScaler())]),\n",
       "                                 [&#x27;accommodates&#x27;, &#x27;bathrooms&#x27;,\n",
       "                                  &#x27;review_scores_rating&#x27;, &#x27;bedrooms&#x27;, &#x27;beds&#x27;]),\n",
       "                                (&#x27;cat_pipe&#x27;,\n",
       "                                 Pipeline(steps=[(&#x27;simpleimputer&#x27;,\n",
       "                                                  SimpleImputer(strategy=&#x27;most_frequent&#x27;)),\n",
       "                                                 (&#x27;onehotencoder&#x27;,\n",
       "                                                  OneHotEncoder(handle_unknown=&#x27;ignore&#x27;))]),\n",
       "                                 [&#x27;room_type&#x27;, &#x27;cancellation_policy&#x27;,\n",
       "                                  &#x27;cleaning_fee&#x27;, &#x27;instant_bookable&#x27;])])</pre><b>In a Jupyter environment, please rerun this cell to show the HTML representation or trust the notebook. <br />On GitHub, the HTML representation is unable to render, please try loading this page with nbviewer.org.</b></div><div class=\"sk-container\" hidden><div class=\"sk-item sk-dashed-wrapped\"><div class=\"sk-label-container\"><div class=\"sk-label sk-toggleable\"><input class=\"sk-toggleable__control sk-hidden--visually\" id=\"sk-estimator-id-1\" type=\"checkbox\" ><label for=\"sk-estimator-id-1\" class=\"sk-toggleable__label sk-toggleable__label-arrow\">ColumnTransformer</label><div class=\"sk-toggleable__content\"><pre>ColumnTransformer(transformers=[(&#x27;num_pipe&#x27;,\n",
       "                                 Pipeline(steps=[(&#x27;simpleimputer&#x27;,\n",
       "                                                  SimpleImputer()),\n",
       "                                                 (&#x27;minmaxscaler&#x27;,\n",
       "                                                  MinMaxScaler())]),\n",
       "                                 [&#x27;accommodates&#x27;, &#x27;bathrooms&#x27;,\n",
       "                                  &#x27;review_scores_rating&#x27;, &#x27;bedrooms&#x27;, &#x27;beds&#x27;]),\n",
       "                                (&#x27;cat_pipe&#x27;,\n",
       "                                 Pipeline(steps=[(&#x27;simpleimputer&#x27;,\n",
       "                                                  SimpleImputer(strategy=&#x27;most_frequent&#x27;)),\n",
       "                                                 (&#x27;onehotencoder&#x27;,\n",
       "                                                  OneHotEncoder(handle_unknown=&#x27;ignore&#x27;))]),\n",
       "                                 [&#x27;room_type&#x27;, &#x27;cancellation_policy&#x27;,\n",
       "                                  &#x27;cleaning_fee&#x27;, &#x27;instant_bookable&#x27;])])</pre></div></div></div><div class=\"sk-parallel\"><div class=\"sk-parallel-item\"><div class=\"sk-item\"><div class=\"sk-label-container\"><div class=\"sk-label sk-toggleable\"><input class=\"sk-toggleable__control sk-hidden--visually\" id=\"sk-estimator-id-2\" type=\"checkbox\" ><label for=\"sk-estimator-id-2\" class=\"sk-toggleable__label sk-toggleable__label-arrow\">num_pipe</label><div class=\"sk-toggleable__content\"><pre>[&#x27;accommodates&#x27;, &#x27;bathrooms&#x27;, &#x27;review_scores_rating&#x27;, &#x27;bedrooms&#x27;, &#x27;beds&#x27;]</pre></div></div></div><div class=\"sk-serial\"><div class=\"sk-item\"><div class=\"sk-serial\"><div class=\"sk-item\"><div class=\"sk-estimator sk-toggleable\"><input class=\"sk-toggleable__control sk-hidden--visually\" id=\"sk-estimator-id-3\" type=\"checkbox\" ><label for=\"sk-estimator-id-3\" class=\"sk-toggleable__label sk-toggleable__label-arrow\">SimpleImputer</label><div class=\"sk-toggleable__content\"><pre>SimpleImputer()</pre></div></div></div><div class=\"sk-item\"><div class=\"sk-estimator sk-toggleable\"><input class=\"sk-toggleable__control sk-hidden--visually\" id=\"sk-estimator-id-4\" type=\"checkbox\" ><label for=\"sk-estimator-id-4\" class=\"sk-toggleable__label sk-toggleable__label-arrow\">MinMaxScaler</label><div class=\"sk-toggleable__content\"><pre>MinMaxScaler()</pre></div></div></div></div></div></div></div></div><div class=\"sk-parallel-item\"><div class=\"sk-item\"><div class=\"sk-label-container\"><div class=\"sk-label sk-toggleable\"><input class=\"sk-toggleable__control sk-hidden--visually\" id=\"sk-estimator-id-5\" type=\"checkbox\" ><label for=\"sk-estimator-id-5\" class=\"sk-toggleable__label sk-toggleable__label-arrow\">cat_pipe</label><div class=\"sk-toggleable__content\"><pre>[&#x27;room_type&#x27;, &#x27;cancellation_policy&#x27;, &#x27;cleaning_fee&#x27;, &#x27;instant_bookable&#x27;]</pre></div></div></div><div class=\"sk-serial\"><div class=\"sk-item\"><div class=\"sk-serial\"><div class=\"sk-item\"><div class=\"sk-estimator sk-toggleable\"><input class=\"sk-toggleable__control sk-hidden--visually\" id=\"sk-estimator-id-6\" type=\"checkbox\" ><label for=\"sk-estimator-id-6\" class=\"sk-toggleable__label sk-toggleable__label-arrow\">SimpleImputer</label><div class=\"sk-toggleable__content\"><pre>SimpleImputer(strategy=&#x27;most_frequent&#x27;)</pre></div></div></div><div class=\"sk-item\"><div class=\"sk-estimator sk-toggleable\"><input class=\"sk-toggleable__control sk-hidden--visually\" id=\"sk-estimator-id-7\" type=\"checkbox\" ><label for=\"sk-estimator-id-7\" class=\"sk-toggleable__label sk-toggleable__label-arrow\">OneHotEncoder</label><div class=\"sk-toggleable__content\"><pre>OneHotEncoder(handle_unknown=&#x27;ignore&#x27;)</pre></div></div></div></div></div></div></div></div></div></div></div></div>"
      ],
      "text/plain": [
       "ColumnTransformer(transformers=[('num_pipe',\n",
       "                                 Pipeline(steps=[('simpleimputer',\n",
       "                                                  SimpleImputer()),\n",
       "                                                 ('minmaxscaler',\n",
       "                                                  MinMaxScaler())]),\n",
       "                                 ['accommodates', 'bathrooms',\n",
       "                                  'review_scores_rating', 'bedrooms', 'beds']),\n",
       "                                ('cat_pipe',\n",
       "                                 Pipeline(steps=[('simpleimputer',\n",
       "                                                  SimpleImputer(strategy='most_frequent')),\n",
       "                                                 ('onehotencoder',\n",
       "                                                  OneHotEncoder(handle_unknown='ignore'))]),\n",
       "                                 ['room_type', 'cancellation_policy',\n",
       "                                  'cleaning_fee', 'instant_bookable'])])"
      ]
     },
     "execution_count": 34,
     "metadata": {},
     "output_type": "execute_result"
    }
   ],
   "source": [
    "num_pipe = make_pipeline(SimpleImputer(strategy='mean'), MinMaxScaler())\n",
    "cat_pipe = make_pipeline(SimpleImputer(strategy='most_frequent'),\n",
    "                        OneHotEncoder(handle_unknown='ignore'))\n",
    "preprocessor = ColumnTransformer([('num_pipe',num_pipe,num_data),('cat_pipe',cat_pipe, cat_data)])\n",
    "preprocessor"
   ]
  },
  {
   "cell_type": "code",
   "execution_count": 35,
   "id": "deb3643f",
   "metadata": {
    "execution": {
     "iopub.execute_input": "2024-07-08T00:52:18.448784Z",
     "iopub.status.busy": "2024-07-08T00:52:18.448070Z",
     "iopub.status.idle": "2024-07-08T00:52:18.454315Z",
     "shell.execute_reply": "2024-07-08T00:52:18.453085Z"
    },
    "papermill": {
     "duration": 0.029776,
     "end_time": "2024-07-08T00:52:18.456967",
     "exception": false,
     "start_time": "2024-07-08T00:52:18.427191",
     "status": "completed"
    },
    "tags": []
   },
   "outputs": [],
   "source": [
    "def prediction(model):\n",
    "    pipeline = Pipeline([('preprocessor', preprocessor),('regressor', model)])\n",
    "    pipeline.fit(X_train, y_train)\n",
    "    y_pred = pipeline.predict(X_test)\n",
    "    return f\"{model}'s RMSE is {np.sqrt(mean_squared_error(y_test, y_pred))}, MAE is {mean_absolute_error(y_test, y_pred)}, R2 is {r2_score(y_test, y_pred)}\""
   ]
  },
  {
   "cell_type": "code",
   "execution_count": 36,
   "id": "827880ce",
   "metadata": {
    "execution": {
     "iopub.execute_input": "2024-07-08T00:52:18.501360Z",
     "iopub.status.busy": "2024-07-08T00:52:18.500975Z",
     "iopub.status.idle": "2024-07-08T00:52:18.755470Z",
     "shell.execute_reply": "2024-07-08T00:52:18.754266Z"
    },
    "papermill": {
     "duration": 0.281125,
     "end_time": "2024-07-08T00:52:18.758283",
     "exception": false,
     "start_time": "2024-07-08T00:52:18.477158",
     "status": "completed"
    },
    "tags": []
   },
   "outputs": [
    {
     "data": {
      "text/plain": [
       "\"LinearRegression()'s RMSE is 0.4970394043387104, MAE is 0.37727275473313426, R2 is 0.5191050905677888\""
      ]
     },
     "execution_count": 36,
     "metadata": {},
     "output_type": "execute_result"
    }
   ],
   "source": [
    "prediction(LinearRegression())"
   ]
  },
  {
   "cell_type": "markdown",
   "id": "03d56df7",
   "metadata": {
    "papermill": {
     "duration": 0.03653,
     "end_time": "2024-07-08T00:52:18.867146",
     "exception": false,
     "start_time": "2024-07-08T00:52:18.830616",
     "status": "completed"
    },
    "tags": []
   },
   "source": [
    "# **DecisionTree model**"
   ]
  },
  {
   "cell_type": "code",
   "execution_count": 37,
   "id": "3ef96719",
   "metadata": {
    "execution": {
     "iopub.execute_input": "2024-07-08T00:52:18.916269Z",
     "iopub.status.busy": "2024-07-08T00:52:18.915854Z",
     "iopub.status.idle": "2024-07-08T00:52:19.245020Z",
     "shell.execute_reply": "2024-07-08T00:52:19.243893Z"
    },
    "papermill": {
     "duration": 0.356451,
     "end_time": "2024-07-08T00:52:19.247568",
     "exception": false,
     "start_time": "2024-07-08T00:52:18.891117",
     "status": "completed"
    },
    "tags": []
   },
   "outputs": [
    {
     "data": {
      "text/plain": [
       "\"DecisionTreeRegressor(random_state=42)'s RMSE is 0.5412506690034034, MAE is 0.4059885324143644, R2 is 0.4297498188964405\""
      ]
     },
     "execution_count": 37,
     "metadata": {},
     "output_type": "execute_result"
    }
   ],
   "source": [
    "#prediction(DesicionTreeRegressor(random_state=42, max_depth=2))\n",
    "prediction(DecisionTreeRegressor(random_state=42))"
   ]
  },
  {
   "cell_type": "markdown",
   "id": "a03eaaa3",
   "metadata": {
    "papermill": {
     "duration": 0.018877,
     "end_time": "2024-07-08T00:52:19.286110",
     "exception": false,
     "start_time": "2024-07-08T00:52:19.267233",
     "status": "completed"
    },
    "tags": []
   },
   "source": [
    "# **RandomForest model**"
   ]
  },
  {
   "cell_type": "code",
   "execution_count": 38,
   "id": "958fc8a8",
   "metadata": {
    "execution": {
     "iopub.execute_input": "2024-07-08T00:52:19.326629Z",
     "iopub.status.busy": "2024-07-08T00:52:19.326184Z",
     "iopub.status.idle": "2024-07-08T00:52:23.491208Z",
     "shell.execute_reply": "2024-07-08T00:52:23.489944Z"
    },
    "papermill": {
     "duration": 4.18835,
     "end_time": "2024-07-08T00:52:23.494070",
     "exception": false,
     "start_time": "2024-07-08T00:52:19.305720",
     "status": "completed"
    },
    "tags": []
   },
   "outputs": [
    {
     "data": {
      "text/plain": [
       "\"RandomForestRegressor(n_jobs=-1, random_state=42)'s RMSE is 0.5009790155287065, MAE is 0.38083562792149334, R2 is 0.511451584007806\""
      ]
     },
     "execution_count": 38,
     "metadata": {},
     "output_type": "execute_result"
    }
   ],
   "source": [
    "prediction(RandomForestRegressor(n_estimators=100, random_state=42,n_jobs=-1))"
   ]
  },
  {
   "cell_type": "markdown",
   "id": "726d0e34",
   "metadata": {
    "papermill": {
     "duration": 0.020279,
     "end_time": "2024-07-08T00:52:23.535902",
     "exception": false,
     "start_time": "2024-07-08T00:52:23.515623",
     "status": "completed"
    },
    "tags": []
   },
   "source": [
    "# **GradientBoosting**"
   ]
  },
  {
   "cell_type": "code",
   "execution_count": 39,
   "id": "ba86900b",
   "metadata": {
    "execution": {
     "iopub.execute_input": "2024-07-08T00:52:23.576375Z",
     "iopub.status.busy": "2024-07-08T00:52:23.575987Z",
     "iopub.status.idle": "2024-07-08T00:52:27.867120Z",
     "shell.execute_reply": "2024-07-08T00:52:27.865989Z"
    },
    "papermill": {
     "duration": 4.314006,
     "end_time": "2024-07-08T00:52:27.869440",
     "exception": false,
     "start_time": "2024-07-08T00:52:23.555434",
     "status": "completed"
    },
    "tags": []
   },
   "outputs": [
    {
     "data": {
      "text/plain": [
       "\"GradientBoostingRegressor(random_state=42)'s RMSE is 0.4788613258719025, MAE is 0.364718523262775, R2 is 0.5536371242826448\""
      ]
     },
     "execution_count": 39,
     "metadata": {},
     "output_type": "execute_result"
    }
   ],
   "source": [
    "prediction(GradientBoostingRegressor(random_state=42))"
   ]
  },
  {
   "cell_type": "markdown",
   "id": "620c32e0",
   "metadata": {
    "papermill": {
     "duration": 0.019759,
     "end_time": "2024-07-08T00:52:27.908776",
     "exception": false,
     "start_time": "2024-07-08T00:52:27.889017",
     "status": "completed"
    },
    "tags": []
   },
   "source": [
    "# **RidgeCV**"
   ]
  },
  {
   "cell_type": "code",
   "execution_count": 40,
   "id": "6e2dd0d9",
   "metadata": {
    "execution": {
     "iopub.execute_input": "2024-07-08T00:52:27.950371Z",
     "iopub.status.busy": "2024-07-08T00:52:27.949820Z",
     "iopub.status.idle": "2024-07-08T00:52:28.312675Z",
     "shell.execute_reply": "2024-07-08T00:52:28.311391Z"
    },
    "papermill": {
     "duration": 0.386899,
     "end_time": "2024-07-08T00:52:28.315743",
     "exception": false,
     "start_time": "2024-07-08T00:52:27.928844",
     "status": "completed"
    },
    "tags": []
   },
   "outputs": [
    {
     "data": {
      "text/plain": [
       "\"RidgeCV()'s RMSE is 0.4970096486325709, MAE is 0.3772205046172483, R2 is 0.5191626672474751\""
      ]
     },
     "execution_count": 40,
     "metadata": {},
     "output_type": "execute_result"
    }
   ],
   "source": [
    "prediction(RidgeCV())"
   ]
  },
  {
   "cell_type": "markdown",
   "id": "c19ee8a4",
   "metadata": {
    "papermill": {
     "duration": 0.033052,
     "end_time": "2024-07-08T00:52:28.381696",
     "exception": false,
     "start_time": "2024-07-08T00:52:28.348644",
     "status": "completed"
    },
    "tags": []
   },
   "source": [
    "# **ElasticNetCV**"
   ]
  },
  {
   "cell_type": "code",
   "execution_count": 41,
   "id": "476718cf",
   "metadata": {
    "execution": {
     "iopub.execute_input": "2024-07-08T00:52:28.441138Z",
     "iopub.status.busy": "2024-07-08T00:52:28.440773Z",
     "iopub.status.idle": "2024-07-08T00:52:29.275629Z",
     "shell.execute_reply": "2024-07-08T00:52:29.274466Z"
    },
    "papermill": {
     "duration": 0.863823,
     "end_time": "2024-07-08T00:52:29.278615",
     "exception": false,
     "start_time": "2024-07-08T00:52:28.414792",
     "status": "completed"
    },
    "tags": []
   },
   "outputs": [
    {
     "data": {
      "text/plain": [
       "\"ElasticNetCV()'s RMSE is 0.49752749963949416, MAE is 0.37728684475889623, R2 is 0.5181601441800382\""
      ]
     },
     "execution_count": 41,
     "metadata": {},
     "output_type": "execute_result"
    }
   ],
   "source": [
    "prediction(ElasticNetCV())"
   ]
  },
  {
   "cell_type": "markdown",
   "id": "3d3a24fd",
   "metadata": {
    "papermill": {
     "duration": 0.035559,
     "end_time": "2024-07-08T00:52:29.378919",
     "exception": false,
     "start_time": "2024-07-08T00:52:29.343360",
     "status": "completed"
    },
    "tags": []
   },
   "source": [
    "# **LassoCV**"
   ]
  },
  {
   "cell_type": "code",
   "execution_count": 42,
   "id": "c0fce4c9",
   "metadata": {
    "execution": {
     "iopub.execute_input": "2024-07-08T00:52:29.424453Z",
     "iopub.status.busy": "2024-07-08T00:52:29.424079Z",
     "iopub.status.idle": "2024-07-08T00:52:30.260678Z",
     "shell.execute_reply": "2024-07-08T00:52:30.259486Z"
    },
    "papermill": {
     "duration": 0.860218,
     "end_time": "2024-07-08T00:52:30.263450",
     "exception": false,
     "start_time": "2024-07-08T00:52:29.403232",
     "status": "completed"
    },
    "tags": []
   },
   "outputs": [
    {
     "data": {
      "text/plain": [
       "\"LassoCV()'s RMSE is 0.49725131856671445, MAE is 0.3771965942591081, R2 is 0.5186949412030342\""
      ]
     },
     "execution_count": 42,
     "metadata": {},
     "output_type": "execute_result"
    }
   ],
   "source": [
    "prediction(LassoCV())"
   ]
  },
  {
   "cell_type": "markdown",
   "id": "8cb777e8",
   "metadata": {
    "papermill": {
     "duration": 0.035214,
     "end_time": "2024-07-08T00:52:30.361844",
     "exception": false,
     "start_time": "2024-07-08T00:52:30.326630",
     "status": "completed"
    },
    "tags": []
   },
   "source": [
    "# Best by using GD"
   ]
  },
  {
   "cell_type": "code",
   "execution_count": 43,
   "id": "f838b5f8",
   "metadata": {
    "execution": {
     "iopub.execute_input": "2024-07-08T00:52:30.408667Z",
     "iopub.status.busy": "2024-07-08T00:52:30.408251Z",
     "iopub.status.idle": "2024-07-08T00:52:46.808325Z",
     "shell.execute_reply": "2024-07-08T00:52:46.807167Z"
    },
    "papermill": {
     "duration": 16.423904,
     "end_time": "2024-07-08T00:52:46.811017",
     "exception": false,
     "start_time": "2024-07-08T00:52:30.387113",
     "status": "completed"
    },
    "tags": []
   },
   "outputs": [
    {
     "data": {
      "text/plain": [
       "\"GradientBoostingRegressor(max_depth=4, n_estimators=300, random_state=42)'s RMSE is 0.47730649010736387, MAE is 0.3638743811573634, R2 is 0.5565310486912178\""
      ]
     },
     "execution_count": 43,
     "metadata": {},
     "output_type": "execute_result"
    }
   ],
   "source": [
    "best_model = GradientBoostingRegressor(n_estimators=300, learning_rate=0.1, max_depth=4, random_state=42)\n",
    "prediction(best_model)"
   ]
  },
  {
   "cell_type": "markdown",
   "id": "ddd514e9",
   "metadata": {
    "papermill": {
     "duration": 0.019376,
     "end_time": "2024-07-08T00:52:46.850362",
     "exception": false,
     "start_time": "2024-07-08T00:52:46.830986",
     "status": "completed"
    },
    "tags": []
   },
   "source": [
    "# Final Submission for log_price"
   ]
  },
  {
   "cell_type": "code",
   "execution_count": 44,
   "id": "825250a2",
   "metadata": {
    "execution": {
     "iopub.execute_input": "2024-07-08T00:52:46.892321Z",
     "iopub.status.busy": "2024-07-08T00:52:46.891620Z",
     "iopub.status.idle": "2024-07-08T00:52:47.101993Z",
     "shell.execute_reply": "2024-07-08T00:52:47.100717Z"
    },
    "papermill": {
     "duration": 0.235005,
     "end_time": "2024-07-08T00:52:47.105131",
     "exception": false,
     "start_time": "2024-07-08T00:52:46.870126",
     "status": "completed"
    },
    "tags": []
   },
   "outputs": [
    {
     "name": "stdout",
     "output_type": "stream",
     "text": [
      "Linear Regression's RMSE is 0.4970394043387104, MAE is 0.37727275473313426, R2 is 0.5191050905677888\n"
     ]
    }
   ],
   "source": [
    "model = LinearRegression()\n",
    "pipeline = Pipeline([('preprocessor', preprocessor), ('regressor', model)])\n",
    "pipeline.fit(X_train, y_train)\n",
    "y_pred = pipeline.predict(X_test)\n",
    "rmse = np.sqrt(mean_squared_error(y_test, y_pred))\n",
    "mae = mean_absolute_error(y_test, y_pred)\n",
    "r2 = r2_score(y_test, y_pred)\n",
    "print(f\"Linear Regression's RMSE is {rmse}, MAE is {mae}, R2 is {r2}\")"
   ]
  },
  {
   "cell_type": "code",
   "execution_count": 45,
   "id": "4e062c81",
   "metadata": {
    "execution": {
     "iopub.execute_input": "2024-07-08T00:52:47.208539Z",
     "iopub.status.busy": "2024-07-08T00:52:47.207432Z",
     "iopub.status.idle": "2024-07-08T00:52:47.260881Z",
     "shell.execute_reply": "2024-07-08T00:52:47.259498Z"
    },
    "papermill": {
     "duration": 0.091081,
     "end_time": "2024-07-08T00:52:47.263328",
     "exception": false,
     "start_time": "2024-07-08T00:52:47.172247",
     "status": "completed"
    },
    "tags": []
   },
   "outputs": [
    {
     "name": "stdout",
     "output_type": "stream",
     "text": [
      "Done, results saved into /kaggle/working/predicted_prices_submission.csv\n"
     ]
    }
   ],
   "source": [
    "predictions_df = pd.DataFrame({\n",
    "    'id': id,\n",
    "    'log_price': y_pred\n",
    "})\n",
    "predictions_df.to_csv('/kaggle/working/predicted_prices_submission.csv', index=True)\n",
    "\n",
    "print(\"Done, results saved into /kaggle/working/predicted_prices_submission.csv\")"
   ]
  },
  {
   "cell_type": "code",
   "execution_count": 46,
   "id": "c7f7d89f",
   "metadata": {
    "execution": {
     "iopub.execute_input": "2024-07-08T00:52:47.305019Z",
     "iopub.status.busy": "2024-07-08T00:52:47.304601Z",
     "iopub.status.idle": "2024-07-08T00:52:47.317477Z",
     "shell.execute_reply": "2024-07-08T00:52:47.316357Z"
    },
    "papermill": {
     "duration": 0.036688,
     "end_time": "2024-07-08T00:52:47.320030",
     "exception": false,
     "start_time": "2024-07-08T00:52:47.283342",
     "status": "completed"
    },
    "tags": []
   },
   "outputs": [
    {
     "data": {
      "text/html": [
       "<div>\n",
       "<style scoped>\n",
       "    .dataframe tbody tr th:only-of-type {\n",
       "        vertical-align: middle;\n",
       "    }\n",
       "\n",
       "    .dataframe tbody tr th {\n",
       "        vertical-align: top;\n",
       "    }\n",
       "\n",
       "    .dataframe thead th {\n",
       "        text-align: right;\n",
       "    }\n",
       "</style>\n",
       "<table border=\"1\" class=\"dataframe\">\n",
       "  <thead>\n",
       "    <tr style=\"text-align: right;\">\n",
       "      <th></th>\n",
       "      <th>id</th>\n",
       "      <th>log_price</th>\n",
       "    </tr>\n",
       "  </thead>\n",
       "  <tbody>\n",
       "    <tr>\n",
       "      <th>0</th>\n",
       "      <td>&lt;built-in function id&gt;</td>\n",
       "      <td>4.339600</td>\n",
       "    </tr>\n",
       "    <tr>\n",
       "      <th>1</th>\n",
       "      <td>&lt;built-in function id&gt;</td>\n",
       "      <td>5.123535</td>\n",
       "    </tr>\n",
       "    <tr>\n",
       "      <th>2</th>\n",
       "      <td>&lt;built-in function id&gt;</td>\n",
       "      <td>5.107422</td>\n",
       "    </tr>\n",
       "    <tr>\n",
       "      <th>3</th>\n",
       "      <td>&lt;built-in function id&gt;</td>\n",
       "      <td>4.902100</td>\n",
       "    </tr>\n",
       "    <tr>\n",
       "      <th>4</th>\n",
       "      <td>&lt;built-in function id&gt;</td>\n",
       "      <td>4.360352</td>\n",
       "    </tr>\n",
       "    <tr>\n",
       "      <th>...</th>\n",
       "      <td>...</td>\n",
       "      <td>...</td>\n",
       "    </tr>\n",
       "    <tr>\n",
       "      <th>14818</th>\n",
       "      <td>&lt;built-in function id&gt;</td>\n",
       "      <td>5.097656</td>\n",
       "    </tr>\n",
       "    <tr>\n",
       "      <th>14819</th>\n",
       "      <td>&lt;built-in function id&gt;</td>\n",
       "      <td>4.344971</td>\n",
       "    </tr>\n",
       "    <tr>\n",
       "      <th>14820</th>\n",
       "      <td>&lt;built-in function id&gt;</td>\n",
       "      <td>4.902344</td>\n",
       "    </tr>\n",
       "    <tr>\n",
       "      <th>14821</th>\n",
       "      <td>&lt;built-in function id&gt;</td>\n",
       "      <td>5.810791</td>\n",
       "    </tr>\n",
       "    <tr>\n",
       "      <th>14822</th>\n",
       "      <td>&lt;built-in function id&gt;</td>\n",
       "      <td>4.313477</td>\n",
       "    </tr>\n",
       "  </tbody>\n",
       "</table>\n",
       "<p>14823 rows × 2 columns</p>\n",
       "</div>"
      ],
      "text/plain": [
       "                           id  log_price\n",
       "0      <built-in function id>   4.339600\n",
       "1      <built-in function id>   5.123535\n",
       "2      <built-in function id>   5.107422\n",
       "3      <built-in function id>   4.902100\n",
       "4      <built-in function id>   4.360352\n",
       "...                       ...        ...\n",
       "14818  <built-in function id>   5.097656\n",
       "14819  <built-in function id>   4.344971\n",
       "14820  <built-in function id>   4.902344\n",
       "14821  <built-in function id>   5.810791\n",
       "14822  <built-in function id>   4.313477\n",
       "\n",
       "[14823 rows x 2 columns]"
      ]
     },
     "execution_count": 46,
     "metadata": {},
     "output_type": "execute_result"
    }
   ],
   "source": [
    "predictions_df"
   ]
  }
 ],
 "metadata": {
  "kaggle": {
   "accelerator": "none",
   "dataSources": [
    {
     "datasetId": 1790900,
     "sourceId": 2921555,
     "sourceType": "datasetVersion"
    }
   ],
   "dockerImageVersionId": 30732,
   "isGpuEnabled": false,
   "isInternetEnabled": true,
   "language": "python",
   "sourceType": "notebook"
  },
  "kernelspec": {
   "display_name": "Python 3",
   "language": "python",
   "name": "python3"
  },
  "language_info": {
   "codemirror_mode": {
    "name": "ipython",
    "version": 3
   },
   "file_extension": ".py",
   "mimetype": "text/x-python",
   "name": "python",
   "nbconvert_exporter": "python",
   "pygments_lexer": "ipython3",
   "version": "3.10.13"
  },
  "papermill": {
   "default_parameters": {},
   "duration": 39.529637,
   "end_time": "2024-07-08T00:52:47.961769",
   "environment_variables": {},
   "exception": null,
   "input_path": "__notebook__.ipynb",
   "output_path": "__notebook__.ipynb",
   "parameters": {},
   "start_time": "2024-07-08T00:52:08.432132",
   "version": "2.5.0"
  }
 },
 "nbformat": 4,
 "nbformat_minor": 5
}
